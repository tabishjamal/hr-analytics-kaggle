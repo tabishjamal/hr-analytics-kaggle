{
  "nbformat": 4,
  "nbformat_minor": 0,
  "metadata": {
    "colab": {
      "name": "HR Analytics.ipynb",
      "provenance": [],
      "collapsed_sections": [],
      "include_colab_link": true
    },
    "kernelspec": {
      "name": "python3",
      "display_name": "Python 3"
    },
    "language_info": {
      "name": "python"
    }
  },
  "cells": [
    {
      "cell_type": "markdown",
      "metadata": {
        "id": "view-in-github",
        "colab_type": "text"
      },
      "source": [
        "<a href=\"https://colab.research.google.com/github/tabishjamal/hr-analytics-kaggle/blob/main/HR_Analytics.ipynb\" target=\"_parent\"><img src=\"https://colab.research.google.com/assets/colab-badge.svg\" alt=\"Open In Colab\"/></a>"
      ]
    },
    {
      "cell_type": "code",
      "metadata": {
        "id": "BX0i6eGx47Gj"
      },
      "source": [
        "import pandas as pd\n",
        "import numpy as np\n",
        "import seaborn as sns\n",
        "import matplotlib\n",
        "import matplotlib.pyplot as plt"
      ],
      "execution_count": 1,
      "outputs": []
    },
    {
      "cell_type": "code",
      "metadata": {
        "colab": {
          "base_uri": "https://localhost:8080/"
        },
        "id": "Jhwy_73N5lwl",
        "outputId": "cdbe670b-0776-4899-8407-b2a110e8a531"
      },
      "source": [
        "!wget --no-check-certificate 'https://docs.google.com/uc?export=download&id=1J6fW9-PIMcCoNTfHOImg5dvuf4ssXPZT' -O hranalytics.csv"
      ],
      "execution_count": 2,
      "outputs": [
        {
          "output_type": "stream",
          "text": [
            "--2021-05-26 19:50:53--  https://docs.google.com/uc?export=download&id=1J6fW9-PIMcCoNTfHOImg5dvuf4ssXPZT\n",
            "Resolving docs.google.com (docs.google.com)... 173.194.214.101, 173.194.214.139, 173.194.214.102, ...\n",
            "Connecting to docs.google.com (docs.google.com)|173.194.214.101|:443... connected.\n",
            "HTTP request sent, awaiting response... 302 Moved Temporarily\n",
            "Location: https://doc-10-54-docs.googleusercontent.com/docs/securesc/ha0ro937gcuc7l7deffksulhg5h7mbp1/m8g089au795dhblg2rb6gvfisihccu7s/1622058600000/09624322204420852874/*/1J6fW9-PIMcCoNTfHOImg5dvuf4ssXPZT?e=download [following]\n",
            "Warning: wildcards not supported in HTTP.\n",
            "--2021-05-26 19:50:54--  https://doc-10-54-docs.googleusercontent.com/docs/securesc/ha0ro937gcuc7l7deffksulhg5h7mbp1/m8g089au795dhblg2rb6gvfisihccu7s/1622058600000/09624322204420852874/*/1J6fW9-PIMcCoNTfHOImg5dvuf4ssXPZT?e=download\n",
            "Resolving doc-10-54-docs.googleusercontent.com (doc-10-54-docs.googleusercontent.com)... 173.194.213.132, 2607:f8b0:400c:c0a::84\n",
            "Connecting to doc-10-54-docs.googleusercontent.com (doc-10-54-docs.googleusercontent.com)|173.194.213.132|:443... connected.\n",
            "HTTP request sent, awaiting response... 200 OK\n",
            "Length: 1961145 (1.9M) [text/csv]\n",
            "Saving to: ‘hranalytics.csv’\n",
            "\n",
            "hranalytics.csv     100%[===================>]   1.87M  --.-KB/s    in 0.02s   \n",
            "\n",
            "2021-05-26 19:50:54 (104 MB/s) - ‘hranalytics.csv’ saved [1961145/1961145]\n",
            "\n"
          ],
          "name": "stdout"
        }
      ]
    },
    {
      "cell_type": "code",
      "metadata": {
        "id": "8XdmWeVn4OFv"
      },
      "source": [
        "df = pd.read_csv('hranalytics.csv')"
      ],
      "execution_count": 3,
      "outputs": []
    },
    {
      "cell_type": "markdown",
      "metadata": {
        "id": "bsDKGQ46-vRG"
      },
      "source": [
        "## Exploratory Data Analysis"
      ]
    },
    {
      "cell_type": "code",
      "metadata": {
        "colab": {
          "base_uri": "https://localhost:8080/",
          "height": 144
        },
        "id": "bA7N1eJh5nzr",
        "outputId": "71aa5868-79d3-4f89-e7a4-662865223366"
      },
      "source": [
        "df.head(2)"
      ],
      "execution_count": 4,
      "outputs": [
        {
          "output_type": "execute_result",
          "data": {
            "text/html": [
              "<div>\n",
              "<style scoped>\n",
              "    .dataframe tbody tr th:only-of-type {\n",
              "        vertical-align: middle;\n",
              "    }\n",
              "\n",
              "    .dataframe tbody tr th {\n",
              "        vertical-align: top;\n",
              "    }\n",
              "\n",
              "    .dataframe thead th {\n",
              "        text-align: right;\n",
              "    }\n",
              "</style>\n",
              "<table border=\"1\" class=\"dataframe\">\n",
              "  <thead>\n",
              "    <tr style=\"text-align: right;\">\n",
              "      <th></th>\n",
              "      <th>enrollee_id</th>\n",
              "      <th>city</th>\n",
              "      <th>city_development_index</th>\n",
              "      <th>gender</th>\n",
              "      <th>relevent_experience</th>\n",
              "      <th>enrolled_university</th>\n",
              "      <th>education_level</th>\n",
              "      <th>major_discipline</th>\n",
              "      <th>experience</th>\n",
              "      <th>company_size</th>\n",
              "      <th>company_type</th>\n",
              "      <th>last_new_job</th>\n",
              "      <th>training_hours</th>\n",
              "      <th>target</th>\n",
              "    </tr>\n",
              "  </thead>\n",
              "  <tbody>\n",
              "    <tr>\n",
              "      <th>0</th>\n",
              "      <td>8949</td>\n",
              "      <td>city_103</td>\n",
              "      <td>0.920</td>\n",
              "      <td>Male</td>\n",
              "      <td>Has relevent experience</td>\n",
              "      <td>no_enrollment</td>\n",
              "      <td>Graduate</td>\n",
              "      <td>STEM</td>\n",
              "      <td>&gt;20</td>\n",
              "      <td>NaN</td>\n",
              "      <td>NaN</td>\n",
              "      <td>1</td>\n",
              "      <td>36</td>\n",
              "      <td>1.0</td>\n",
              "    </tr>\n",
              "    <tr>\n",
              "      <th>1</th>\n",
              "      <td>29725</td>\n",
              "      <td>city_40</td>\n",
              "      <td>0.776</td>\n",
              "      <td>Male</td>\n",
              "      <td>No relevent experience</td>\n",
              "      <td>no_enrollment</td>\n",
              "      <td>Graduate</td>\n",
              "      <td>STEM</td>\n",
              "      <td>15</td>\n",
              "      <td>50-99</td>\n",
              "      <td>Pvt Ltd</td>\n",
              "      <td>&gt;4</td>\n",
              "      <td>47</td>\n",
              "      <td>0.0</td>\n",
              "    </tr>\n",
              "  </tbody>\n",
              "</table>\n",
              "</div>"
            ],
            "text/plain": [
              "   enrollee_id      city  ...  training_hours target\n",
              "0         8949  city_103  ...              36    1.0\n",
              "1        29725   city_40  ...              47    0.0\n",
              "\n",
              "[2 rows x 14 columns]"
            ]
          },
          "metadata": {
            "tags": []
          },
          "execution_count": 4
        }
      ]
    },
    {
      "cell_type": "code",
      "metadata": {
        "colab": {
          "base_uri": "https://localhost:8080/"
        },
        "id": "NPSZNzTC6gDE",
        "outputId": "54812cc2-0a10-43f3-8cb2-4f1cd12cef2a"
      },
      "source": [
        "df.info()"
      ],
      "execution_count": 5,
      "outputs": [
        {
          "output_type": "stream",
          "text": [
            "<class 'pandas.core.frame.DataFrame'>\n",
            "RangeIndex: 19158 entries, 0 to 19157\n",
            "Data columns (total 14 columns):\n",
            " #   Column                  Non-Null Count  Dtype  \n",
            "---  ------                  --------------  -----  \n",
            " 0   enrollee_id             19158 non-null  int64  \n",
            " 1   city                    19158 non-null  object \n",
            " 2   city_development_index  19158 non-null  float64\n",
            " 3   gender                  14650 non-null  object \n",
            " 4   relevent_experience     19158 non-null  object \n",
            " 5   enrolled_university     18772 non-null  object \n",
            " 6   education_level         18698 non-null  object \n",
            " 7   major_discipline        16345 non-null  object \n",
            " 8   experience              19093 non-null  object \n",
            " 9   company_size            13220 non-null  object \n",
            " 10  company_type            13018 non-null  object \n",
            " 11  last_new_job            18735 non-null  object \n",
            " 12  training_hours          19158 non-null  int64  \n",
            " 13  target                  19158 non-null  float64\n",
            "dtypes: float64(2), int64(2), object(10)\n",
            "memory usage: 2.0+ MB\n"
          ],
          "name": "stdout"
        }
      ]
    },
    {
      "cell_type": "code",
      "metadata": {
        "colab": {
          "base_uri": "https://localhost:8080/",
          "height": 167
        },
        "id": "DFNQSg5i6z7s",
        "outputId": "e800e89e-a2fa-4c28-946c-ff44c417bab1"
      },
      "source": [
        "df.describe(include= ['object'])"
      ],
      "execution_count": 6,
      "outputs": [
        {
          "output_type": "execute_result",
          "data": {
            "text/html": [
              "<div>\n",
              "<style scoped>\n",
              "    .dataframe tbody tr th:only-of-type {\n",
              "        vertical-align: middle;\n",
              "    }\n",
              "\n",
              "    .dataframe tbody tr th {\n",
              "        vertical-align: top;\n",
              "    }\n",
              "\n",
              "    .dataframe thead th {\n",
              "        text-align: right;\n",
              "    }\n",
              "</style>\n",
              "<table border=\"1\" class=\"dataframe\">\n",
              "  <thead>\n",
              "    <tr style=\"text-align: right;\">\n",
              "      <th></th>\n",
              "      <th>city</th>\n",
              "      <th>gender</th>\n",
              "      <th>relevent_experience</th>\n",
              "      <th>enrolled_university</th>\n",
              "      <th>education_level</th>\n",
              "      <th>major_discipline</th>\n",
              "      <th>experience</th>\n",
              "      <th>company_size</th>\n",
              "      <th>company_type</th>\n",
              "      <th>last_new_job</th>\n",
              "    </tr>\n",
              "  </thead>\n",
              "  <tbody>\n",
              "    <tr>\n",
              "      <th>count</th>\n",
              "      <td>19158</td>\n",
              "      <td>14650</td>\n",
              "      <td>19158</td>\n",
              "      <td>18772</td>\n",
              "      <td>18698</td>\n",
              "      <td>16345</td>\n",
              "      <td>19093</td>\n",
              "      <td>13220</td>\n",
              "      <td>13018</td>\n",
              "      <td>18735</td>\n",
              "    </tr>\n",
              "    <tr>\n",
              "      <th>unique</th>\n",
              "      <td>123</td>\n",
              "      <td>3</td>\n",
              "      <td>2</td>\n",
              "      <td>3</td>\n",
              "      <td>5</td>\n",
              "      <td>6</td>\n",
              "      <td>22</td>\n",
              "      <td>8</td>\n",
              "      <td>6</td>\n",
              "      <td>6</td>\n",
              "    </tr>\n",
              "    <tr>\n",
              "      <th>top</th>\n",
              "      <td>city_103</td>\n",
              "      <td>Male</td>\n",
              "      <td>Has relevent experience</td>\n",
              "      <td>no_enrollment</td>\n",
              "      <td>Graduate</td>\n",
              "      <td>STEM</td>\n",
              "      <td>&gt;20</td>\n",
              "      <td>50-99</td>\n",
              "      <td>Pvt Ltd</td>\n",
              "      <td>1</td>\n",
              "    </tr>\n",
              "    <tr>\n",
              "      <th>freq</th>\n",
              "      <td>4355</td>\n",
              "      <td>13221</td>\n",
              "      <td>13792</td>\n",
              "      <td>13817</td>\n",
              "      <td>11598</td>\n",
              "      <td>14492</td>\n",
              "      <td>3286</td>\n",
              "      <td>3083</td>\n",
              "      <td>9817</td>\n",
              "      <td>8040</td>\n",
              "    </tr>\n",
              "  </tbody>\n",
              "</table>\n",
              "</div>"
            ],
            "text/plain": [
              "            city gender  ... company_type last_new_job\n",
              "count      19158  14650  ...        13018        18735\n",
              "unique       123      3  ...            6            6\n",
              "top     city_103   Male  ...      Pvt Ltd            1\n",
              "freq        4355  13221  ...         9817         8040\n",
              "\n",
              "[4 rows x 10 columns]"
            ]
          },
          "metadata": {
            "tags": []
          },
          "execution_count": 6
        }
      ]
    },
    {
      "cell_type": "code",
      "metadata": {
        "colab": {
          "base_uri": "https://localhost:8080/",
          "height": 287
        },
        "id": "HeOB2cHG7D_P",
        "outputId": "1a9e3e52-2d01-496b-ae95-45b415bc8f70"
      },
      "source": [
        "df.describe(include= ['number'])"
      ],
      "execution_count": 7,
      "outputs": [
        {
          "output_type": "execute_result",
          "data": {
            "text/html": [
              "<div>\n",
              "<style scoped>\n",
              "    .dataframe tbody tr th:only-of-type {\n",
              "        vertical-align: middle;\n",
              "    }\n",
              "\n",
              "    .dataframe tbody tr th {\n",
              "        vertical-align: top;\n",
              "    }\n",
              "\n",
              "    .dataframe thead th {\n",
              "        text-align: right;\n",
              "    }\n",
              "</style>\n",
              "<table border=\"1\" class=\"dataframe\">\n",
              "  <thead>\n",
              "    <tr style=\"text-align: right;\">\n",
              "      <th></th>\n",
              "      <th>enrollee_id</th>\n",
              "      <th>city_development_index</th>\n",
              "      <th>training_hours</th>\n",
              "      <th>target</th>\n",
              "    </tr>\n",
              "  </thead>\n",
              "  <tbody>\n",
              "    <tr>\n",
              "      <th>count</th>\n",
              "      <td>19158.000000</td>\n",
              "      <td>19158.000000</td>\n",
              "      <td>19158.000000</td>\n",
              "      <td>19158.000000</td>\n",
              "    </tr>\n",
              "    <tr>\n",
              "      <th>mean</th>\n",
              "      <td>16875.358179</td>\n",
              "      <td>0.828848</td>\n",
              "      <td>65.366896</td>\n",
              "      <td>0.249348</td>\n",
              "    </tr>\n",
              "    <tr>\n",
              "      <th>std</th>\n",
              "      <td>9616.292592</td>\n",
              "      <td>0.123362</td>\n",
              "      <td>60.058462</td>\n",
              "      <td>0.432647</td>\n",
              "    </tr>\n",
              "    <tr>\n",
              "      <th>min</th>\n",
              "      <td>1.000000</td>\n",
              "      <td>0.448000</td>\n",
              "      <td>1.000000</td>\n",
              "      <td>0.000000</td>\n",
              "    </tr>\n",
              "    <tr>\n",
              "      <th>25%</th>\n",
              "      <td>8554.250000</td>\n",
              "      <td>0.740000</td>\n",
              "      <td>23.000000</td>\n",
              "      <td>0.000000</td>\n",
              "    </tr>\n",
              "    <tr>\n",
              "      <th>50%</th>\n",
              "      <td>16982.500000</td>\n",
              "      <td>0.903000</td>\n",
              "      <td>47.000000</td>\n",
              "      <td>0.000000</td>\n",
              "    </tr>\n",
              "    <tr>\n",
              "      <th>75%</th>\n",
              "      <td>25169.750000</td>\n",
              "      <td>0.920000</td>\n",
              "      <td>88.000000</td>\n",
              "      <td>0.000000</td>\n",
              "    </tr>\n",
              "    <tr>\n",
              "      <th>max</th>\n",
              "      <td>33380.000000</td>\n",
              "      <td>0.949000</td>\n",
              "      <td>336.000000</td>\n",
              "      <td>1.000000</td>\n",
              "    </tr>\n",
              "  </tbody>\n",
              "</table>\n",
              "</div>"
            ],
            "text/plain": [
              "        enrollee_id  city_development_index  training_hours        target\n",
              "count  19158.000000            19158.000000    19158.000000  19158.000000\n",
              "mean   16875.358179                0.828848       65.366896      0.249348\n",
              "std     9616.292592                0.123362       60.058462      0.432647\n",
              "min        1.000000                0.448000        1.000000      0.000000\n",
              "25%     8554.250000                0.740000       23.000000      0.000000\n",
              "50%    16982.500000                0.903000       47.000000      0.000000\n",
              "75%    25169.750000                0.920000       88.000000      0.000000\n",
              "max    33380.000000                0.949000      336.000000      1.000000"
            ]
          },
          "metadata": {
            "tags": []
          },
          "execution_count": 7
        }
      ]
    },
    {
      "cell_type": "markdown",
      "metadata": {
        "id": "hXvKSoKQK3Za"
      },
      "source": [
        "#### Count of missing values"
      ]
    },
    {
      "cell_type": "code",
      "metadata": {
        "colab": {
          "base_uri": "https://localhost:8080/"
        },
        "id": "jCbXGzHo7U4O",
        "outputId": "7cfeea56-1fd5-46a8-8087-e78e07f8c7cf"
      },
      "source": [
        "df.isnull().sum()"
      ],
      "execution_count": 8,
      "outputs": [
        {
          "output_type": "execute_result",
          "data": {
            "text/plain": [
              "enrollee_id                  0\n",
              "city                         0\n",
              "city_development_index       0\n",
              "gender                    4508\n",
              "relevent_experience          0\n",
              "enrolled_university        386\n",
              "education_level            460\n",
              "major_discipline          2813\n",
              "experience                  65\n",
              "company_size              5938\n",
              "company_type              6140\n",
              "last_new_job               423\n",
              "training_hours               0\n",
              "target                       0\n",
              "dtype: int64"
            ]
          },
          "metadata": {
            "tags": []
          },
          "execution_count": 8
        }
      ]
    },
    {
      "cell_type": "markdown",
      "metadata": {
        "id": "pYfriv229LH_"
      },
      "source": [
        "#### Gender - Fill with Undisclosed\n",
        "\n",
        "#### \"enrolled_university\" and \"education_level\" - Fill with mode"
      ]
    },
    {
      "cell_type": "code",
      "metadata": {
        "colab": {
          "base_uri": "https://localhost:8080/"
        },
        "id": "SNnUtOo67fhH",
        "outputId": "ac7682b9-4aef-41b0-b357-d23b7a363009"
      },
      "source": [
        "df['experience'].unique()"
      ],
      "execution_count": 9,
      "outputs": [
        {
          "output_type": "execute_result",
          "data": {
            "text/plain": [
              "array(['>20', '15', '5', '<1', '11', '13', '7', '17', '2', '16', '1', '4',\n",
              "       '10', '14', '18', '19', '12', '3', '6', '9', '8', '20', nan],\n",
              "      dtype=object)"
            ]
          },
          "metadata": {
            "tags": []
          },
          "execution_count": 9
        }
      ]
    },
    {
      "cell_type": "code",
      "metadata": {
        "colab": {
          "base_uri": "https://localhost:8080/"
        },
        "id": "h7MER06S77wv",
        "outputId": "665cbfce-f63b-4d57-9c16-2e9a31860021"
      },
      "source": [
        "df['enrolled_university'].value_counts()"
      ],
      "execution_count": 10,
      "outputs": [
        {
          "output_type": "execute_result",
          "data": {
            "text/plain": [
              "no_enrollment       13817\n",
              "Full time course     3757\n",
              "Part time course     1198\n",
              "Name: enrolled_university, dtype: int64"
            ]
          },
          "metadata": {
            "tags": []
          },
          "execution_count": 10
        }
      ]
    },
    {
      "cell_type": "code",
      "metadata": {
        "colab": {
          "base_uri": "https://localhost:8080/"
        },
        "id": "p3jcn5_-LSVA",
        "outputId": "691cbaad-87ea-417b-e45d-250d60aa760b"
      },
      "source": [
        "df['education_level'].unique()"
      ],
      "execution_count": 11,
      "outputs": [
        {
          "output_type": "execute_result",
          "data": {
            "text/plain": [
              "array(['Graduate', 'Masters', 'High School', nan, 'Phd', 'Primary School'],\n",
              "      dtype=object)"
            ]
          },
          "metadata": {
            "tags": []
          },
          "execution_count": 11
        }
      ]
    },
    {
      "cell_type": "code",
      "metadata": {
        "colab": {
          "base_uri": "https://localhost:8080/"
        },
        "id": "iig4lfQWLUL4",
        "outputId": "d1ba34ba-00e1-460a-f9f9-3e662eff34eb"
      },
      "source": [
        "df['education_level'].value_counts()"
      ],
      "execution_count": 12,
      "outputs": [
        {
          "output_type": "execute_result",
          "data": {
            "text/plain": [
              "Graduate          11598\n",
              "Masters            4361\n",
              "High School        2017\n",
              "Phd                 414\n",
              "Primary School      308\n",
              "Name: education_level, dtype: int64"
            ]
          },
          "metadata": {
            "tags": []
          },
          "execution_count": 12
        }
      ]
    },
    {
      "cell_type": "code",
      "metadata": {
        "colab": {
          "base_uri": "https://localhost:8080/"
        },
        "id": "YtahcjM39ayi",
        "outputId": "1cb8e54d-7d8e-4832-8b8f-a43fd9758d76"
      },
      "source": [
        "## Instances where both company size and company type is missing\n",
        "df.loc[df['company_size'].isnull() & df['company_type'].isnull()].shape"
      ],
      "execution_count": 13,
      "outputs": [
        {
          "output_type": "execute_result",
          "data": {
            "text/plain": [
              "(5360, 14)"
            ]
          },
          "metadata": {
            "tags": []
          },
          "execution_count": 13
        }
      ]
    },
    {
      "cell_type": "code",
      "metadata": {
        "colab": {
          "base_uri": "https://localhost:8080/"
        },
        "id": "bchrQOSrDcRM",
        "outputId": "2aa5c2a3-91b7-4ca4-ebec-4f70f9f1ec5a"
      },
      "source": [
        "## Instances where company size is missing, but company type has value\n",
        "df.loc[df['company_size'].isnull() & df['company_type'].notnull()].shape"
      ],
      "execution_count": 14,
      "outputs": [
        {
          "output_type": "execute_result",
          "data": {
            "text/plain": [
              "(578, 14)"
            ]
          },
          "metadata": {
            "tags": []
          },
          "execution_count": 14
        }
      ]
    },
    {
      "cell_type": "code",
      "metadata": {
        "colab": {
          "base_uri": "https://localhost:8080/"
        },
        "id": "HmOKp7uiE73p",
        "outputId": "08323ed2-147d-4254-9557-0f1a24a3a61a"
      },
      "source": [
        "## Instances where company size has some value but company type is missing\n",
        "df.loc[df['company_size'].notnull() & df['company_type'].isnull()].shape"
      ],
      "execution_count": 15,
      "outputs": [
        {
          "output_type": "execute_result",
          "data": {
            "text/plain": [
              "(780, 14)"
            ]
          },
          "metadata": {
            "tags": []
          },
          "execution_count": 15
        }
      ]
    },
    {
      "cell_type": "markdown",
      "metadata": {
        "id": "w7SjKLCcQDVA"
      },
      "source": [
        "#### There are 14 columns, finding the data with 7 null values in a row. These data could be deleted because they have very less information in them. And they are just 12 data instances."
      ]
    },
    {
      "cell_type": "code",
      "metadata": {
        "colab": {
          "base_uri": "https://localhost:8080/"
        },
        "id": "rLSCelbaNiQt",
        "outputId": "ad394bbf-ee8b-4ca0-cb3e-535e01cdc658"
      },
      "source": [
        "(df.apply(lambda x: x.isnull().sum(), axis=1) == 7).value_counts()"
      ],
      "execution_count": 16,
      "outputs": [
        {
          "output_type": "execute_result",
          "data": {
            "text/plain": [
              "False    19146\n",
              "True        12\n",
              "dtype: int64"
            ]
          },
          "metadata": {
            "tags": []
          },
          "execution_count": 16
        }
      ]
    },
    {
      "cell_type": "markdown",
      "metadata": {
        "id": "Z8YE2jfd7xQZ"
      },
      "source": [
        "#### Checking Experience column and Last_new_job column"
      ]
    },
    {
      "cell_type": "markdown",
      "metadata": {
        "id": "7Zv-yoVo-Pp8"
      },
      "source": [
        "As last_new_job is the Difference in years between previous job and current job.\n",
        "\n",
        "And Experience is Total Experience.\n",
        "\n",
        "In the case where data is present in Experience but is not present in last_new_job. We can safely put the same data of Experience in last_new_job."
      ]
    },
    {
      "cell_type": "code",
      "metadata": {
        "colab": {
          "base_uri": "https://localhost:8080/"
        },
        "id": "xYIqtfn5HEf-",
        "outputId": "494c2889-f9cf-4ab3-ccd0-3b4223c2dbdb"
      },
      "source": [
        "df.loc[(df['experience'].isnull()) & (df['last_new_job'].isnull())].shape "
      ],
      "execution_count": 17,
      "outputs": [
        {
          "output_type": "execute_result",
          "data": {
            "text/plain": [
              "(24, 14)"
            ]
          },
          "metadata": {
            "tags": []
          },
          "execution_count": 17
        }
      ]
    },
    {
      "cell_type": "code",
      "metadata": {
        "colab": {
          "base_uri": "https://localhost:8080/"
        },
        "id": "fIilyCJiHEgA",
        "outputId": "711d2148-9949-4f4d-ab57-8e89e1c0f01a"
      },
      "source": [
        "df.loc[df['experience'].isnull() & df['last_new_job'].notnull()].shape"
      ],
      "execution_count": 18,
      "outputs": [
        {
          "output_type": "execute_result",
          "data": {
            "text/plain": [
              "(41, 14)"
            ]
          },
          "metadata": {
            "tags": []
          },
          "execution_count": 18
        }
      ]
    },
    {
      "cell_type": "code",
      "metadata": {
        "colab": {
          "base_uri": "https://localhost:8080/"
        },
        "id": "UUsc6UtgHEgA",
        "outputId": "7e256ddb-b134-4a22-f4ec-d1e7be60a60a"
      },
      "source": [
        "df.loc[df['experience'].notnull() & df['last_new_job'].isnull()].shape"
      ],
      "execution_count": 19,
      "outputs": [
        {
          "output_type": "execute_result",
          "data": {
            "text/plain": [
              "(399, 14)"
            ]
          },
          "metadata": {
            "tags": []
          },
          "execution_count": 19
        }
      ]
    },
    {
      "cell_type": "code",
      "metadata": {
        "colab": {
          "base_uri": "https://localhost:8080/",
          "height": 67
        },
        "id": "HthFY92VH0zR",
        "outputId": "cea77320-070c-43cd-bfcc-6d1a20588274"
      },
      "source": [
        "df.loc[df['experience'].notnull() & df['last_new_job']== 'never' ]"
      ],
      "execution_count": 20,
      "outputs": [
        {
          "output_type": "execute_result",
          "data": {
            "text/html": [
              "<div>\n",
              "<style scoped>\n",
              "    .dataframe tbody tr th:only-of-type {\n",
              "        vertical-align: middle;\n",
              "    }\n",
              "\n",
              "    .dataframe tbody tr th {\n",
              "        vertical-align: top;\n",
              "    }\n",
              "\n",
              "    .dataframe thead th {\n",
              "        text-align: right;\n",
              "    }\n",
              "</style>\n",
              "<table border=\"1\" class=\"dataframe\">\n",
              "  <thead>\n",
              "    <tr style=\"text-align: right;\">\n",
              "      <th></th>\n",
              "      <th>enrollee_id</th>\n",
              "      <th>city</th>\n",
              "      <th>city_development_index</th>\n",
              "      <th>gender</th>\n",
              "      <th>relevent_experience</th>\n",
              "      <th>enrolled_university</th>\n",
              "      <th>education_level</th>\n",
              "      <th>major_discipline</th>\n",
              "      <th>experience</th>\n",
              "      <th>company_size</th>\n",
              "      <th>company_type</th>\n",
              "      <th>last_new_job</th>\n",
              "      <th>training_hours</th>\n",
              "      <th>target</th>\n",
              "    </tr>\n",
              "  </thead>\n",
              "  <tbody>\n",
              "  </tbody>\n",
              "</table>\n",
              "</div>"
            ],
            "text/plain": [
              "Empty DataFrame\n",
              "Columns: [enrollee_id, city, city_development_index, gender, relevent_experience, enrolled_university, education_level, major_discipline, experience, company_size, company_type, last_new_job, training_hours, target]\n",
              "Index: []"
            ]
          },
          "metadata": {
            "tags": []
          },
          "execution_count": 20
        }
      ]
    },
    {
      "cell_type": "code",
      "metadata": {
        "colab": {
          "base_uri": "https://localhost:8080/"
        },
        "id": "OGnhpv-jJw_p",
        "outputId": "e034d4f3-4b9c-4b41-d668-ee86394557db"
      },
      "source": [
        "df.loc[df['last_new_job']== 'never' ].shape"
      ],
      "execution_count": 21,
      "outputs": [
        {
          "output_type": "execute_result",
          "data": {
            "text/plain": [
              "(2452, 14)"
            ]
          },
          "metadata": {
            "tags": []
          },
          "execution_count": 21
        }
      ]
    },
    {
      "cell_type": "code",
      "metadata": {
        "colab": {
          "base_uri": "https://localhost:8080/"
        },
        "id": "PI25MKkvKSua",
        "outputId": "b9fe4a5b-40c2-4c0f-d671-ff4ae804d1c4"
      },
      "source": [
        "df.loc[df['experience'] == '<1'  ].enrolled_university.value_counts()"
      ],
      "execution_count": 22,
      "outputs": [
        {
          "output_type": "execute_result",
          "data": {
            "text/plain": [
              "no_enrollment       286\n",
              "Full time course    178\n",
              "Part time course     34\n",
              "Name: enrolled_university, dtype: int64"
            ]
          },
          "metadata": {
            "tags": []
          },
          "execution_count": 22
        }
      ]
    },
    {
      "cell_type": "code",
      "metadata": {
        "colab": {
          "base_uri": "https://localhost:8080/",
          "height": 67
        },
        "id": "CUI2I8jVMG-L",
        "outputId": "2734bdc0-00e2-4da6-f64d-7b183d40e146"
      },
      "source": [
        "# Finding duplicates\n",
        "df[df.duplicated(keep=False)]"
      ],
      "execution_count": 23,
      "outputs": [
        {
          "output_type": "execute_result",
          "data": {
            "text/html": [
              "<div>\n",
              "<style scoped>\n",
              "    .dataframe tbody tr th:only-of-type {\n",
              "        vertical-align: middle;\n",
              "    }\n",
              "\n",
              "    .dataframe tbody tr th {\n",
              "        vertical-align: top;\n",
              "    }\n",
              "\n",
              "    .dataframe thead th {\n",
              "        text-align: right;\n",
              "    }\n",
              "</style>\n",
              "<table border=\"1\" class=\"dataframe\">\n",
              "  <thead>\n",
              "    <tr style=\"text-align: right;\">\n",
              "      <th></th>\n",
              "      <th>enrollee_id</th>\n",
              "      <th>city</th>\n",
              "      <th>city_development_index</th>\n",
              "      <th>gender</th>\n",
              "      <th>relevent_experience</th>\n",
              "      <th>enrolled_university</th>\n",
              "      <th>education_level</th>\n",
              "      <th>major_discipline</th>\n",
              "      <th>experience</th>\n",
              "      <th>company_size</th>\n",
              "      <th>company_type</th>\n",
              "      <th>last_new_job</th>\n",
              "      <th>training_hours</th>\n",
              "      <th>target</th>\n",
              "    </tr>\n",
              "  </thead>\n",
              "  <tbody>\n",
              "  </tbody>\n",
              "</table>\n",
              "</div>"
            ],
            "text/plain": [
              "Empty DataFrame\n",
              "Columns: [enrollee_id, city, city_development_index, gender, relevent_experience, enrolled_university, education_level, major_discipline, experience, company_size, company_type, last_new_job, training_hours, target]\n",
              "Index: []"
            ]
          },
          "metadata": {
            "tags": []
          },
          "execution_count": 23
        }
      ]
    },
    {
      "cell_type": "markdown",
      "metadata": {
        "id": "9UQT4ZUkGeQv"
      },
      "source": [
        "#### Data is imbalanced"
      ]
    },
    {
      "cell_type": "code",
      "metadata": {
        "colab": {
          "base_uri": "https://localhost:8080/"
        },
        "id": "Pxh8xpVLEIQw",
        "outputId": "b3edd0e7-4b59-4096-ac0d-a46c6968a9b3"
      },
      "source": [
        "df['target'].value_counts()"
      ],
      "execution_count": 24,
      "outputs": [
        {
          "output_type": "execute_result",
          "data": {
            "text/plain": [
              "0.0    14381\n",
              "1.0     4777\n",
              "Name: target, dtype: int64"
            ]
          },
          "metadata": {
            "tags": []
          },
          "execution_count": 24
        }
      ]
    },
    {
      "cell_type": "markdown",
      "metadata": {
        "id": "DeUbY3Zi-pNG"
      },
      "source": [
        "## Data Cleaning\n",
        "\n",
        "1. Missing values\n",
        "\n",
        "* Deleting instances where 7 cells are null\n",
        "\n",
        "* gender 'NaN' values fill with Undisclosed , 'Other' values changed to diverse\n",
        "\n",
        "* enrolled_university , education_level, fill with mode\n",
        "\n",
        "* Rename Last_new_job column to Current experience\n",
        "\n",
        "* Company_Size and Company_Type to be filled with ffill values\n",
        "\n",
        "* Experience fill with Mean\n",
        "\n",
        "* Last_new_job 'Never' and 'Nan' values fill with experience\n"
      ]
    },
    {
      "cell_type": "markdown",
      "metadata": {
        "id": "RGucJ2n04zO5"
      },
      "source": [
        "1.  There are 14 columns, finding the data with 7 null values in a row. These data could be deleted because they have very less information in them. And they are just 12 data instances."
      ]
    },
    {
      "cell_type": "code",
      "metadata": {
        "colab": {
          "base_uri": "https://localhost:8080/"
        },
        "id": "GqvBm1nYSpfL",
        "outputId": "6a259466-a47f-4a09-a89b-2a7ad2d923c4"
      },
      "source": [
        "df[df.apply(lambda x: x.isnull().sum(), axis=1) == 7].index"
      ],
      "execution_count": 25,
      "outputs": [
        {
          "output_type": "execute_result",
          "data": {
            "text/plain": [
              "Int64Index([1376, 2518, 7746, 8905, 9206, 10337, 11789, 12079, 12348, 13236,\n",
              "            17453, 17977],\n",
              "           dtype='int64')"
            ]
          },
          "metadata": {
            "tags": []
          },
          "execution_count": 25
        }
      ]
    },
    {
      "cell_type": "code",
      "metadata": {
        "id": "Jwu-5S7uRnle"
      },
      "source": [
        "## Dropping the rows where 7 cells were null\n",
        "df.drop(df[df.apply(lambda x: x.isnull().sum(), axis=1) == 7].index, axis=0, inplace=True)\n",
        "df.reset_index(drop=True, inplace=True)"
      ],
      "execution_count": 26,
      "outputs": []
    },
    {
      "cell_type": "markdown",
      "metadata": {
        "id": "9zTrlfUlh2gZ"
      },
      "source": [
        "2.  gender 'NaN' values fill with Undisclosed , 'Other' values changed to diverse\n",
        "\n",
        "> It is assumed that people who have not filled the Gender, they do not want to disclose their gender, So it changed to \"Undisclosed\".\n",
        "\n",
        "> The data source might not have \"Diverse\" gender, so Other Have been changed to \"Diverse\""
      ]
    },
    {
      "cell_type": "code",
      "metadata": {
        "id": "7trX0nWfNCL_",
        "colab": {
          "base_uri": "https://localhost:8080/"
        },
        "outputId": "9828bed1-bd2a-4fb1-c2cd-60bea55bc01d"
      },
      "source": [
        "df['gender'] = df['gender'].fillna('Undisclosed')\n",
        "df[\"gender\"].replace({\"Other\": \"Diverse\"}, inplace=True)\n",
        "df['gender'].value_counts()"
      ],
      "execution_count": 27,
      "outputs": [
        {
          "output_type": "execute_result",
          "data": {
            "text/plain": [
              "Male           13221\n",
              "Undisclosed     4496\n",
              "Female          1238\n",
              "Diverse          191\n",
              "Name: gender, dtype: int64"
            ]
          },
          "metadata": {
            "tags": []
          },
          "execution_count": 27
        }
      ]
    },
    {
      "cell_type": "markdown",
      "metadata": {
        "id": "MPTSs2AqjSwd"
      },
      "source": [
        "3. A total of 386 missing values for enrolled_university. So we are fixing it with taking a mode value of the feature.\n"
      ]
    },
    {
      "cell_type": "code",
      "metadata": {
        "id": "EGk97dEhCMTB"
      },
      "source": [
        "df['enrolled_university'] = df['enrolled_university'].fillna(df['enrolled_university'].mode().iloc[0])"
      ],
      "execution_count": 28,
      "outputs": []
    },
    {
      "cell_type": "markdown",
      "metadata": {
        "id": "Q2mBeFioniQ5"
      },
      "source": [
        "4. A total of 460 missing values for education level. So we are fixing it with taking a mode value of the feature."
      ]
    },
    {
      "cell_type": "code",
      "metadata": {
        "id": "Wav8o6CkCYE5"
      },
      "source": [
        "df['education_level'] = df['education_level'].fillna(df['education_level'].mode().iloc[0])"
      ],
      "execution_count": 29,
      "outputs": []
    },
    {
      "cell_type": "code",
      "metadata": {
        "colab": {
          "base_uri": "https://localhost:8080/",
          "height": 251
        },
        "id": "5rntgD-oDilt",
        "outputId": "db931462-1b39-4053-cada-1fa27a8bd548"
      },
      "source": [
        "df.rename(columns={'last_new_job' : 'current_jobexperience'}, inplace= True)\n",
        "df.head()"
      ],
      "execution_count": 30,
      "outputs": [
        {
          "output_type": "execute_result",
          "data": {
            "text/html": [
              "<div>\n",
              "<style scoped>\n",
              "    .dataframe tbody tr th:only-of-type {\n",
              "        vertical-align: middle;\n",
              "    }\n",
              "\n",
              "    .dataframe tbody tr th {\n",
              "        vertical-align: top;\n",
              "    }\n",
              "\n",
              "    .dataframe thead th {\n",
              "        text-align: right;\n",
              "    }\n",
              "</style>\n",
              "<table border=\"1\" class=\"dataframe\">\n",
              "  <thead>\n",
              "    <tr style=\"text-align: right;\">\n",
              "      <th></th>\n",
              "      <th>enrollee_id</th>\n",
              "      <th>city</th>\n",
              "      <th>city_development_index</th>\n",
              "      <th>gender</th>\n",
              "      <th>relevent_experience</th>\n",
              "      <th>enrolled_university</th>\n",
              "      <th>education_level</th>\n",
              "      <th>major_discipline</th>\n",
              "      <th>experience</th>\n",
              "      <th>company_size</th>\n",
              "      <th>company_type</th>\n",
              "      <th>current_jobexperience</th>\n",
              "      <th>training_hours</th>\n",
              "      <th>target</th>\n",
              "    </tr>\n",
              "  </thead>\n",
              "  <tbody>\n",
              "    <tr>\n",
              "      <th>0</th>\n",
              "      <td>8949</td>\n",
              "      <td>city_103</td>\n",
              "      <td>0.920</td>\n",
              "      <td>Male</td>\n",
              "      <td>Has relevent experience</td>\n",
              "      <td>no_enrollment</td>\n",
              "      <td>Graduate</td>\n",
              "      <td>STEM</td>\n",
              "      <td>&gt;20</td>\n",
              "      <td>NaN</td>\n",
              "      <td>NaN</td>\n",
              "      <td>1</td>\n",
              "      <td>36</td>\n",
              "      <td>1.0</td>\n",
              "    </tr>\n",
              "    <tr>\n",
              "      <th>1</th>\n",
              "      <td>29725</td>\n",
              "      <td>city_40</td>\n",
              "      <td>0.776</td>\n",
              "      <td>Male</td>\n",
              "      <td>No relevent experience</td>\n",
              "      <td>no_enrollment</td>\n",
              "      <td>Graduate</td>\n",
              "      <td>STEM</td>\n",
              "      <td>15</td>\n",
              "      <td>50-99</td>\n",
              "      <td>Pvt Ltd</td>\n",
              "      <td>&gt;4</td>\n",
              "      <td>47</td>\n",
              "      <td>0.0</td>\n",
              "    </tr>\n",
              "    <tr>\n",
              "      <th>2</th>\n",
              "      <td>11561</td>\n",
              "      <td>city_21</td>\n",
              "      <td>0.624</td>\n",
              "      <td>Undisclosed</td>\n",
              "      <td>No relevent experience</td>\n",
              "      <td>Full time course</td>\n",
              "      <td>Graduate</td>\n",
              "      <td>STEM</td>\n",
              "      <td>5</td>\n",
              "      <td>NaN</td>\n",
              "      <td>NaN</td>\n",
              "      <td>never</td>\n",
              "      <td>83</td>\n",
              "      <td>0.0</td>\n",
              "    </tr>\n",
              "    <tr>\n",
              "      <th>3</th>\n",
              "      <td>33241</td>\n",
              "      <td>city_115</td>\n",
              "      <td>0.789</td>\n",
              "      <td>Undisclosed</td>\n",
              "      <td>No relevent experience</td>\n",
              "      <td>no_enrollment</td>\n",
              "      <td>Graduate</td>\n",
              "      <td>Business Degree</td>\n",
              "      <td>&lt;1</td>\n",
              "      <td>NaN</td>\n",
              "      <td>Pvt Ltd</td>\n",
              "      <td>never</td>\n",
              "      <td>52</td>\n",
              "      <td>1.0</td>\n",
              "    </tr>\n",
              "    <tr>\n",
              "      <th>4</th>\n",
              "      <td>666</td>\n",
              "      <td>city_162</td>\n",
              "      <td>0.767</td>\n",
              "      <td>Male</td>\n",
              "      <td>Has relevent experience</td>\n",
              "      <td>no_enrollment</td>\n",
              "      <td>Masters</td>\n",
              "      <td>STEM</td>\n",
              "      <td>&gt;20</td>\n",
              "      <td>50-99</td>\n",
              "      <td>Funded Startup</td>\n",
              "      <td>4</td>\n",
              "      <td>8</td>\n",
              "      <td>0.0</td>\n",
              "    </tr>\n",
              "  </tbody>\n",
              "</table>\n",
              "</div>"
            ],
            "text/plain": [
              "   enrollee_id      city  ...  training_hours target\n",
              "0         8949  city_103  ...              36    1.0\n",
              "1        29725   city_40  ...              47    0.0\n",
              "2        11561   city_21  ...              83    0.0\n",
              "3        33241  city_115  ...              52    1.0\n",
              "4          666  city_162  ...               8    0.0\n",
              "\n",
              "[5 rows x 14 columns]"
            ]
          },
          "metadata": {
            "tags": []
          },
          "execution_count": 30
        }
      ]
    },
    {
      "cell_type": "code",
      "metadata": {
        "colab": {
          "base_uri": "https://localhost:8080/"
        },
        "id": "UTHuiz5JJZxj",
        "outputId": "bfb6cdb9-1ef5-400f-b659-0e20b39cccc3"
      },
      "source": [
        "df['company_type'].value_counts()"
      ],
      "execution_count": 31,
      "outputs": [
        {
          "output_type": "execute_result",
          "data": {
            "text/plain": [
              "Pvt Ltd                9817\n",
              "Funded Startup         1001\n",
              "Public Sector           955\n",
              "Early Stage Startup     603\n",
              "NGO                     521\n",
              "Other                   121\n",
              "Name: company_type, dtype: int64"
            ]
          },
          "metadata": {
            "tags": []
          },
          "execution_count": 31
        }
      ]
    },
    {
      "cell_type": "code",
      "metadata": {
        "colab": {
          "base_uri": "https://localhost:8080/"
        },
        "id": "XyNneFWHKVA2",
        "outputId": "3d2f49ce-02dc-411c-f021-a9fa99bb7c90"
      },
      "source": [
        "df[df['company_type'] == 'Pvt Ltd'].company_size.value_counts()"
      ],
      "execution_count": 32,
      "outputs": [
        {
          "output_type": "execute_result",
          "data": {
            "text/plain": [
              "50-99        2151\n",
              "100-500      1833\n",
              "10000+       1739\n",
              "1000-4999    1016\n",
              "10/49         910\n",
              "<10           728\n",
              "500-999       622\n",
              "5000-9999     412\n",
              "Name: company_size, dtype: int64"
            ]
          },
          "metadata": {
            "tags": []
          },
          "execution_count": 32
        }
      ]
    },
    {
      "cell_type": "markdown",
      "metadata": {
        "id": "iC0ECrPMrJla"
      },
      "source": [
        "5. Most of the companies are of PVT LTD type. So in this case, if we fill company type with PVT LTD, it will increase it even more.\n",
        "\n",
        "\n",
        ">Hence we filed the missing values for both \"Company Type\" and \"Company Size\" with ffill and bfill to maintain the similar distribution.\n",
        "\n",
        "Similarly we have filled for \"Experience\" and \"Major Discipline\" as well.\n"
      ]
    },
    {
      "cell_type": "code",
      "metadata": {
        "id": "8Ikd4zv0Qzw8"
      },
      "source": [
        "df['company_size'] = df['company_size'].fillna(method='bfill')\n",
        "df['company_size'] = df['company_size'].fillna(method='ffill')"
      ],
      "execution_count": 33,
      "outputs": []
    },
    {
      "cell_type": "code",
      "metadata": {
        "id": "7mgesfKrXVGp"
      },
      "source": [
        "df['company_type'] = df['company_type'].fillna(method='bfill')\n",
        "df['company_type'] = df['company_type'].fillna(method='ffill')"
      ],
      "execution_count": 34,
      "outputs": []
    },
    {
      "cell_type": "code",
      "metadata": {
        "id": "IkyBkmk_Xsiq"
      },
      "source": [
        "df['experience'] = df['experience'].fillna(method='ffill')"
      ],
      "execution_count": 35,
      "outputs": []
    },
    {
      "cell_type": "code",
      "metadata": {
        "id": "lrUobGApG94c"
      },
      "source": [
        "df.major_discipline = df.major_discipline.fillna(method = 'ffill')"
      ],
      "execution_count": 36,
      "outputs": []
    },
    {
      "cell_type": "markdown",
      "metadata": {
        "id": "7r8ut6SVtEIU"
      },
      "source": [
        "6. It is assumed that if a person has previous job experience then the current job experience should not be null. \n",
        "> The employee might have changed the company recently and couldnot find an appropriate option to fill in this column in the survey. So they might have kept it empty. So last experience would be the best possible fill for them.\n"
      ]
    },
    {
      "cell_type": "code",
      "metadata": {
        "colab": {
          "base_uri": "https://localhost:8080/"
        },
        "id": "kLyrNatpZhk4",
        "outputId": "eb64249c-5654-4f32-95f0-1065a8b0279d"
      },
      "source": [
        "df['current_jobexperience'].unique()"
      ],
      "execution_count": 37,
      "outputs": [
        {
          "output_type": "execute_result",
          "data": {
            "text/plain": [
              "array(['1', '>4', 'never', '4', '3', '2', nan], dtype=object)"
            ]
          },
          "metadata": {
            "tags": []
          },
          "execution_count": 37
        }
      ]
    },
    {
      "cell_type": "code",
      "metadata": {
        "id": "Ebbw5SRCEcqY"
      },
      "source": [
        "## Fill NaN by experience\n",
        "df['current_jobexperience'] = df['current_jobexperience'].fillna(df.experience)"
      ],
      "execution_count": 38,
      "outputs": []
    },
    {
      "cell_type": "code",
      "metadata": {
        "id": "D83EqgW_dgnv"
      },
      "source": [
        "## Fill never by experience\n",
        "df.loc[df['current_jobexperience']=='never', 'current_jobexperience'] = df['experience']"
      ],
      "execution_count": 39,
      "outputs": []
    },
    {
      "cell_type": "code",
      "metadata": {
        "colab": {
          "base_uri": "https://localhost:8080/"
        },
        "id": "Ox0ezXEAHPlt",
        "outputId": "6653c039-f93b-4e4f-9bad-f726e46efb42"
      },
      "source": [
        "df.isnull().sum()"
      ],
      "execution_count": 40,
      "outputs": [
        {
          "output_type": "execute_result",
          "data": {
            "text/plain": [
              "enrollee_id               0\n",
              "city                      0\n",
              "city_development_index    0\n",
              "gender                    0\n",
              "relevent_experience       0\n",
              "enrolled_university       0\n",
              "education_level           0\n",
              "major_discipline          0\n",
              "experience                0\n",
              "company_size              0\n",
              "company_type              0\n",
              "current_jobexperience     0\n",
              "training_hours            0\n",
              "target                    0\n",
              "dtype: int64"
            ]
          },
          "metadata": {
            "tags": []
          },
          "execution_count": 40
        }
      ]
    },
    {
      "cell_type": "code",
      "metadata": {
        "colab": {
          "base_uri": "https://localhost:8080/"
        },
        "id": "b8WuBxWqHa8U",
        "outputId": "628f5e4f-ee9f-416a-88d9-e311827b0f5d"
      },
      "source": [
        "df.info()"
      ],
      "execution_count": 41,
      "outputs": [
        {
          "output_type": "stream",
          "text": [
            "<class 'pandas.core.frame.DataFrame'>\n",
            "RangeIndex: 19146 entries, 0 to 19145\n",
            "Data columns (total 14 columns):\n",
            " #   Column                  Non-Null Count  Dtype  \n",
            "---  ------                  --------------  -----  \n",
            " 0   enrollee_id             19146 non-null  int64  \n",
            " 1   city                    19146 non-null  object \n",
            " 2   city_development_index  19146 non-null  float64\n",
            " 3   gender                  19146 non-null  object \n",
            " 4   relevent_experience     19146 non-null  object \n",
            " 5   enrolled_university     19146 non-null  object \n",
            " 6   education_level         19146 non-null  object \n",
            " 7   major_discipline        19146 non-null  object \n",
            " 8   experience              19146 non-null  object \n",
            " 9   company_size            19146 non-null  object \n",
            " 10  company_type            19146 non-null  object \n",
            " 11  current_jobexperience   19146 non-null  object \n",
            " 12  training_hours          19146 non-null  int64  \n",
            " 13  target                  19146 non-null  float64\n",
            "dtypes: float64(2), int64(2), object(10)\n",
            "memory usage: 2.0+ MB\n"
          ],
          "name": "stdout"
        }
      ]
    },
    {
      "cell_type": "markdown",
      "metadata": {
        "id": "QTSCkiAENMg4"
      },
      "source": [
        "#### Data transformation\n",
        "\n",
        "#### One Hot\n",
        "* major_discipline\n",
        "* Gender\n",
        "* Enrolled Uni\n",
        "* Company Type\n",
        "\n",
        "\n",
        "#### Label Encoding\n",
        "* Education level\n",
        "* relevent_experience"
      ]
    },
    {
      "cell_type": "markdown",
      "metadata": {
        "id": "-PBnYL82LZEt"
      },
      "source": [
        "#### One Hot Encoding"
      ]
    },
    {
      "cell_type": "code",
      "metadata": {
        "colab": {
          "base_uri": "https://localhost:8080/",
          "height": 167
        },
        "id": "lcWUXo8PHtyH",
        "outputId": "2f57f7c7-cd82-4822-95cd-6e11abda739f"
      },
      "source": [
        "df.describe(include='object')"
      ],
      "execution_count": 42,
      "outputs": [
        {
          "output_type": "execute_result",
          "data": {
            "text/html": [
              "<div>\n",
              "<style scoped>\n",
              "    .dataframe tbody tr th:only-of-type {\n",
              "        vertical-align: middle;\n",
              "    }\n",
              "\n",
              "    .dataframe tbody tr th {\n",
              "        vertical-align: top;\n",
              "    }\n",
              "\n",
              "    .dataframe thead th {\n",
              "        text-align: right;\n",
              "    }\n",
              "</style>\n",
              "<table border=\"1\" class=\"dataframe\">\n",
              "  <thead>\n",
              "    <tr style=\"text-align: right;\">\n",
              "      <th></th>\n",
              "      <th>city</th>\n",
              "      <th>gender</th>\n",
              "      <th>relevent_experience</th>\n",
              "      <th>enrolled_university</th>\n",
              "      <th>education_level</th>\n",
              "      <th>major_discipline</th>\n",
              "      <th>experience</th>\n",
              "      <th>company_size</th>\n",
              "      <th>company_type</th>\n",
              "      <th>current_jobexperience</th>\n",
              "    </tr>\n",
              "  </thead>\n",
              "  <tbody>\n",
              "    <tr>\n",
              "      <th>count</th>\n",
              "      <td>19146</td>\n",
              "      <td>19146</td>\n",
              "      <td>19146</td>\n",
              "      <td>19146</td>\n",
              "      <td>19146</td>\n",
              "      <td>19146</td>\n",
              "      <td>19146</td>\n",
              "      <td>19146</td>\n",
              "      <td>19146</td>\n",
              "      <td>19146</td>\n",
              "    </tr>\n",
              "    <tr>\n",
              "      <th>unique</th>\n",
              "      <td>123</td>\n",
              "      <td>4</td>\n",
              "      <td>2</td>\n",
              "      <td>3</td>\n",
              "      <td>5</td>\n",
              "      <td>6</td>\n",
              "      <td>22</td>\n",
              "      <td>8</td>\n",
              "      <td>6</td>\n",
              "      <td>23</td>\n",
              "    </tr>\n",
              "    <tr>\n",
              "      <th>top</th>\n",
              "      <td>city_103</td>\n",
              "      <td>Male</td>\n",
              "      <td>Has relevent experience</td>\n",
              "      <td>no_enrollment</td>\n",
              "      <td>Graduate</td>\n",
              "      <td>STEM</td>\n",
              "      <td>&gt;20</td>\n",
              "      <td>50-99</td>\n",
              "      <td>Pvt Ltd</td>\n",
              "      <td>1</td>\n",
              "    </tr>\n",
              "    <tr>\n",
              "      <th>freq</th>\n",
              "      <td>4351</td>\n",
              "      <td>13221</td>\n",
              "      <td>13788</td>\n",
              "      <td>14191</td>\n",
              "      <td>12046</td>\n",
              "      <td>16981</td>\n",
              "      <td>3291</td>\n",
              "      <td>4455</td>\n",
              "      <td>14366</td>\n",
              "      <td>8277</td>\n",
              "    </tr>\n",
              "  </tbody>\n",
              "</table>\n",
              "</div>"
            ],
            "text/plain": [
              "            city gender  ... company_type current_jobexperience\n",
              "count      19146  19146  ...        19146                 19146\n",
              "unique       123      4  ...            6                    23\n",
              "top     city_103   Male  ...      Pvt Ltd                     1\n",
              "freq        4351  13221  ...        14366                  8277\n",
              "\n",
              "[4 rows x 10 columns]"
            ]
          },
          "metadata": {
            "tags": []
          },
          "execution_count": 42
        }
      ]
    },
    {
      "cell_type": "code",
      "metadata": {
        "colab": {
          "base_uri": "https://localhost:8080/"
        },
        "id": "EDLfNbCeK1iz",
        "outputId": "62a6ae17-67ca-49da-bae4-d21822fa6e60"
      },
      "source": [
        "df.major_discipline.value_counts()"
      ],
      "execution_count": 43,
      "outputs": [
        {
          "output_type": "execute_result",
          "data": {
            "text/plain": [
              "STEM               16981\n",
              "Humanities           777\n",
              "Other                448\n",
              "Business Degree      387\n",
              "Arts                 292\n",
              "No Major             261\n",
              "Name: major_discipline, dtype: int64"
            ]
          },
          "metadata": {
            "tags": []
          },
          "execution_count": 43
        }
      ]
    },
    {
      "cell_type": "code",
      "metadata": {
        "colab": {
          "base_uri": "https://localhost:8080/",
          "height": 267
        },
        "id": "IR6a4CJuMMLR",
        "outputId": "75efb74e-3179-4bda-b28b-a4390c6674a8"
      },
      "source": [
        "## One hot encoding of major_discipline --> (MD)\n",
        "dfDummies = pd.get_dummies(df['major_discipline'], prefix = 'MD')\n",
        "df = pd.concat([df, dfDummies], axis=1)\n",
        "df.head()"
      ],
      "execution_count": 44,
      "outputs": [
        {
          "output_type": "execute_result",
          "data": {
            "text/html": [
              "<div>\n",
              "<style scoped>\n",
              "    .dataframe tbody tr th:only-of-type {\n",
              "        vertical-align: middle;\n",
              "    }\n",
              "\n",
              "    .dataframe tbody tr th {\n",
              "        vertical-align: top;\n",
              "    }\n",
              "\n",
              "    .dataframe thead th {\n",
              "        text-align: right;\n",
              "    }\n",
              "</style>\n",
              "<table border=\"1\" class=\"dataframe\">\n",
              "  <thead>\n",
              "    <tr style=\"text-align: right;\">\n",
              "      <th></th>\n",
              "      <th>enrollee_id</th>\n",
              "      <th>city</th>\n",
              "      <th>city_development_index</th>\n",
              "      <th>gender</th>\n",
              "      <th>relevent_experience</th>\n",
              "      <th>enrolled_university</th>\n",
              "      <th>education_level</th>\n",
              "      <th>major_discipline</th>\n",
              "      <th>experience</th>\n",
              "      <th>company_size</th>\n",
              "      <th>company_type</th>\n",
              "      <th>current_jobexperience</th>\n",
              "      <th>training_hours</th>\n",
              "      <th>target</th>\n",
              "      <th>MD_Arts</th>\n",
              "      <th>MD_Business Degree</th>\n",
              "      <th>MD_Humanities</th>\n",
              "      <th>MD_No Major</th>\n",
              "      <th>MD_Other</th>\n",
              "      <th>MD_STEM</th>\n",
              "    </tr>\n",
              "  </thead>\n",
              "  <tbody>\n",
              "    <tr>\n",
              "      <th>0</th>\n",
              "      <td>8949</td>\n",
              "      <td>city_103</td>\n",
              "      <td>0.920</td>\n",
              "      <td>Male</td>\n",
              "      <td>Has relevent experience</td>\n",
              "      <td>no_enrollment</td>\n",
              "      <td>Graduate</td>\n",
              "      <td>STEM</td>\n",
              "      <td>&gt;20</td>\n",
              "      <td>50-99</td>\n",
              "      <td>Pvt Ltd</td>\n",
              "      <td>1</td>\n",
              "      <td>36</td>\n",
              "      <td>1.0</td>\n",
              "      <td>0</td>\n",
              "      <td>0</td>\n",
              "      <td>0</td>\n",
              "      <td>0</td>\n",
              "      <td>0</td>\n",
              "      <td>1</td>\n",
              "    </tr>\n",
              "    <tr>\n",
              "      <th>1</th>\n",
              "      <td>29725</td>\n",
              "      <td>city_40</td>\n",
              "      <td>0.776</td>\n",
              "      <td>Male</td>\n",
              "      <td>No relevent experience</td>\n",
              "      <td>no_enrollment</td>\n",
              "      <td>Graduate</td>\n",
              "      <td>STEM</td>\n",
              "      <td>15</td>\n",
              "      <td>50-99</td>\n",
              "      <td>Pvt Ltd</td>\n",
              "      <td>&gt;4</td>\n",
              "      <td>47</td>\n",
              "      <td>0.0</td>\n",
              "      <td>0</td>\n",
              "      <td>0</td>\n",
              "      <td>0</td>\n",
              "      <td>0</td>\n",
              "      <td>0</td>\n",
              "      <td>1</td>\n",
              "    </tr>\n",
              "    <tr>\n",
              "      <th>2</th>\n",
              "      <td>11561</td>\n",
              "      <td>city_21</td>\n",
              "      <td>0.624</td>\n",
              "      <td>Undisclosed</td>\n",
              "      <td>No relevent experience</td>\n",
              "      <td>Full time course</td>\n",
              "      <td>Graduate</td>\n",
              "      <td>STEM</td>\n",
              "      <td>5</td>\n",
              "      <td>50-99</td>\n",
              "      <td>Pvt Ltd</td>\n",
              "      <td>5</td>\n",
              "      <td>83</td>\n",
              "      <td>0.0</td>\n",
              "      <td>0</td>\n",
              "      <td>0</td>\n",
              "      <td>0</td>\n",
              "      <td>0</td>\n",
              "      <td>0</td>\n",
              "      <td>1</td>\n",
              "    </tr>\n",
              "    <tr>\n",
              "      <th>3</th>\n",
              "      <td>33241</td>\n",
              "      <td>city_115</td>\n",
              "      <td>0.789</td>\n",
              "      <td>Undisclosed</td>\n",
              "      <td>No relevent experience</td>\n",
              "      <td>no_enrollment</td>\n",
              "      <td>Graduate</td>\n",
              "      <td>Business Degree</td>\n",
              "      <td>&lt;1</td>\n",
              "      <td>50-99</td>\n",
              "      <td>Pvt Ltd</td>\n",
              "      <td>&lt;1</td>\n",
              "      <td>52</td>\n",
              "      <td>1.0</td>\n",
              "      <td>0</td>\n",
              "      <td>1</td>\n",
              "      <td>0</td>\n",
              "      <td>0</td>\n",
              "      <td>0</td>\n",
              "      <td>0</td>\n",
              "    </tr>\n",
              "    <tr>\n",
              "      <th>4</th>\n",
              "      <td>666</td>\n",
              "      <td>city_162</td>\n",
              "      <td>0.767</td>\n",
              "      <td>Male</td>\n",
              "      <td>Has relevent experience</td>\n",
              "      <td>no_enrollment</td>\n",
              "      <td>Masters</td>\n",
              "      <td>STEM</td>\n",
              "      <td>&gt;20</td>\n",
              "      <td>50-99</td>\n",
              "      <td>Funded Startup</td>\n",
              "      <td>4</td>\n",
              "      <td>8</td>\n",
              "      <td>0.0</td>\n",
              "      <td>0</td>\n",
              "      <td>0</td>\n",
              "      <td>0</td>\n",
              "      <td>0</td>\n",
              "      <td>0</td>\n",
              "      <td>1</td>\n",
              "    </tr>\n",
              "  </tbody>\n",
              "</table>\n",
              "</div>"
            ],
            "text/plain": [
              "   enrollee_id      city  ...  MD_Other MD_STEM\n",
              "0         8949  city_103  ...         0       1\n",
              "1        29725   city_40  ...         0       1\n",
              "2        11561   city_21  ...         0       1\n",
              "3        33241  city_115  ...         0       0\n",
              "4          666  city_162  ...         0       1\n",
              "\n",
              "[5 rows x 20 columns]"
            ]
          },
          "metadata": {
            "tags": []
          },
          "execution_count": 44
        }
      ]
    },
    {
      "cell_type": "code",
      "metadata": {
        "id": "s94BDklPMMSb"
      },
      "source": [
        "dfDummies = pd.get_dummies(df['gender'], prefix = 'gender')\n",
        "df = pd.concat([df, dfDummies], axis=1)"
      ],
      "execution_count": 45,
      "outputs": []
    },
    {
      "cell_type": "code",
      "metadata": {
        "id": "pzNVTOQrRnWW"
      },
      "source": [
        "dfDummies = pd.get_dummies(df['enrolled_university'], prefix = 'EU')\n",
        "df = pd.concat([df, dfDummies], axis=1)"
      ],
      "execution_count": 46,
      "outputs": []
    },
    {
      "cell_type": "code",
      "metadata": {
        "colab": {
          "base_uri": "https://localhost:8080/",
          "height": 177
        },
        "id": "t_dFL3NeSHb-",
        "outputId": "ed913870-610f-4f30-e2c0-ea6afbacdf43"
      },
      "source": [
        "dfDummies = pd.get_dummies(df['company_type'], prefix = 'CT')\n",
        "df = pd.concat([df, dfDummies], axis=1)\n",
        "df.head(2)"
      ],
      "execution_count": 47,
      "outputs": [
        {
          "output_type": "execute_result",
          "data": {
            "text/html": [
              "<div>\n",
              "<style scoped>\n",
              "    .dataframe tbody tr th:only-of-type {\n",
              "        vertical-align: middle;\n",
              "    }\n",
              "\n",
              "    .dataframe tbody tr th {\n",
              "        vertical-align: top;\n",
              "    }\n",
              "\n",
              "    .dataframe thead th {\n",
              "        text-align: right;\n",
              "    }\n",
              "</style>\n",
              "<table border=\"1\" class=\"dataframe\">\n",
              "  <thead>\n",
              "    <tr style=\"text-align: right;\">\n",
              "      <th></th>\n",
              "      <th>enrollee_id</th>\n",
              "      <th>city</th>\n",
              "      <th>city_development_index</th>\n",
              "      <th>gender</th>\n",
              "      <th>relevent_experience</th>\n",
              "      <th>enrolled_university</th>\n",
              "      <th>education_level</th>\n",
              "      <th>major_discipline</th>\n",
              "      <th>experience</th>\n",
              "      <th>company_size</th>\n",
              "      <th>company_type</th>\n",
              "      <th>current_jobexperience</th>\n",
              "      <th>training_hours</th>\n",
              "      <th>target</th>\n",
              "      <th>MD_Arts</th>\n",
              "      <th>MD_Business Degree</th>\n",
              "      <th>MD_Humanities</th>\n",
              "      <th>MD_No Major</th>\n",
              "      <th>MD_Other</th>\n",
              "      <th>MD_STEM</th>\n",
              "      <th>gender_Diverse</th>\n",
              "      <th>gender_Female</th>\n",
              "      <th>gender_Male</th>\n",
              "      <th>gender_Undisclosed</th>\n",
              "      <th>EU_Full time course</th>\n",
              "      <th>EU_Part time course</th>\n",
              "      <th>EU_no_enrollment</th>\n",
              "      <th>CT_Early Stage Startup</th>\n",
              "      <th>CT_Funded Startup</th>\n",
              "      <th>CT_NGO</th>\n",
              "      <th>CT_Other</th>\n",
              "      <th>CT_Public Sector</th>\n",
              "      <th>CT_Pvt Ltd</th>\n",
              "    </tr>\n",
              "  </thead>\n",
              "  <tbody>\n",
              "    <tr>\n",
              "      <th>0</th>\n",
              "      <td>8949</td>\n",
              "      <td>city_103</td>\n",
              "      <td>0.920</td>\n",
              "      <td>Male</td>\n",
              "      <td>Has relevent experience</td>\n",
              "      <td>no_enrollment</td>\n",
              "      <td>Graduate</td>\n",
              "      <td>STEM</td>\n",
              "      <td>&gt;20</td>\n",
              "      <td>50-99</td>\n",
              "      <td>Pvt Ltd</td>\n",
              "      <td>1</td>\n",
              "      <td>36</td>\n",
              "      <td>1.0</td>\n",
              "      <td>0</td>\n",
              "      <td>0</td>\n",
              "      <td>0</td>\n",
              "      <td>0</td>\n",
              "      <td>0</td>\n",
              "      <td>1</td>\n",
              "      <td>0</td>\n",
              "      <td>0</td>\n",
              "      <td>1</td>\n",
              "      <td>0</td>\n",
              "      <td>0</td>\n",
              "      <td>0</td>\n",
              "      <td>1</td>\n",
              "      <td>0</td>\n",
              "      <td>0</td>\n",
              "      <td>0</td>\n",
              "      <td>0</td>\n",
              "      <td>0</td>\n",
              "      <td>1</td>\n",
              "    </tr>\n",
              "    <tr>\n",
              "      <th>1</th>\n",
              "      <td>29725</td>\n",
              "      <td>city_40</td>\n",
              "      <td>0.776</td>\n",
              "      <td>Male</td>\n",
              "      <td>No relevent experience</td>\n",
              "      <td>no_enrollment</td>\n",
              "      <td>Graduate</td>\n",
              "      <td>STEM</td>\n",
              "      <td>15</td>\n",
              "      <td>50-99</td>\n",
              "      <td>Pvt Ltd</td>\n",
              "      <td>&gt;4</td>\n",
              "      <td>47</td>\n",
              "      <td>0.0</td>\n",
              "      <td>0</td>\n",
              "      <td>0</td>\n",
              "      <td>0</td>\n",
              "      <td>0</td>\n",
              "      <td>0</td>\n",
              "      <td>1</td>\n",
              "      <td>0</td>\n",
              "      <td>0</td>\n",
              "      <td>1</td>\n",
              "      <td>0</td>\n",
              "      <td>0</td>\n",
              "      <td>0</td>\n",
              "      <td>1</td>\n",
              "      <td>0</td>\n",
              "      <td>0</td>\n",
              "      <td>0</td>\n",
              "      <td>0</td>\n",
              "      <td>0</td>\n",
              "      <td>1</td>\n",
              "    </tr>\n",
              "  </tbody>\n",
              "</table>\n",
              "</div>"
            ],
            "text/plain": [
              "   enrollee_id      city  ...  CT_Public Sector CT_Pvt Ltd\n",
              "0         8949  city_103  ...                 0          1\n",
              "1        29725   city_40  ...                 0          1\n",
              "\n",
              "[2 rows x 33 columns]"
            ]
          },
          "metadata": {
            "tags": []
          },
          "execution_count": 47
        }
      ]
    },
    {
      "cell_type": "markdown",
      "metadata": {
        "id": "qnpJkF68LfN2"
      },
      "source": [
        "#### Label Encoding"
      ]
    },
    {
      "cell_type": "code",
      "metadata": {
        "colab": {
          "base_uri": "https://localhost:8080/"
        },
        "id": "usquuRtRJ9lX",
        "outputId": "ce8323f8-c1a6-4db9-8ecf-dae9f60a214c"
      },
      "source": [
        "df.education_level.value_counts() ## 1 to 5"
      ],
      "execution_count": 48,
      "outputs": [
        {
          "output_type": "execute_result",
          "data": {
            "text/plain": [
              "Graduate          12046\n",
              "Masters            4361\n",
              "High School        2017\n",
              "Phd                 414\n",
              "Primary School      308\n",
              "Name: education_level, dtype: int64"
            ]
          },
          "metadata": {
            "tags": []
          },
          "execution_count": 48
        }
      ]
    },
    {
      "cell_type": "code",
      "metadata": {
        "id": "iyiMiiP6MmHF"
      },
      "source": [
        "# create a list of our conditions to fill new column Popularity\n",
        "conditions = [\n",
        "    (df['education_level'] == 'Primary School'),\n",
        "    (df['education_level'] == 'High School'),\n",
        "    (df['education_level'] == 'Graduate'),\n",
        "    (df['education_level'] == 'Masters'),\n",
        "    (df['education_level'] == 'Phd')\n",
        "    ]\n",
        "# create a list of the values we want to assign for each condition\n",
        "values = [1, 2, 3, 4, 5]\n",
        "\n",
        "# create a new column and use np.select to assign values to it using our lists as arguments\n",
        "df['education_level'] = np.select(conditions, values)\n"
      ],
      "execution_count": 49,
      "outputs": []
    },
    {
      "cell_type": "code",
      "metadata": {
        "colab": {
          "base_uri": "https://localhost:8080/",
          "height": 191
        },
        "id": "-ylnDwfIN0N9",
        "outputId": "9d75d6f5-bf40-4c00-c1a7-e737b2cd9cba"
      },
      "source": [
        "# create a list of our conditions to fill new column Popularity\n",
        "conditions = [\n",
        "    (df['relevent_experience'] == 'No relevent experience'),\n",
        "    (df['relevent_experience'] == 'Has relevent experience')\n",
        "    ]\n",
        "# create a list of the values we want to assign for each condition\n",
        "values = [0, 1]\n",
        "\n",
        "# create a new column and use np.select to assign values to it using our lists as arguments\n",
        "df['relevent_experience'] = np.select(conditions, values)\n",
        "df.head(3)"
      ],
      "execution_count": 50,
      "outputs": [
        {
          "output_type": "execute_result",
          "data": {
            "text/html": [
              "<div>\n",
              "<style scoped>\n",
              "    .dataframe tbody tr th:only-of-type {\n",
              "        vertical-align: middle;\n",
              "    }\n",
              "\n",
              "    .dataframe tbody tr th {\n",
              "        vertical-align: top;\n",
              "    }\n",
              "\n",
              "    .dataframe thead th {\n",
              "        text-align: right;\n",
              "    }\n",
              "</style>\n",
              "<table border=\"1\" class=\"dataframe\">\n",
              "  <thead>\n",
              "    <tr style=\"text-align: right;\">\n",
              "      <th></th>\n",
              "      <th>enrollee_id</th>\n",
              "      <th>city</th>\n",
              "      <th>city_development_index</th>\n",
              "      <th>gender</th>\n",
              "      <th>relevent_experience</th>\n",
              "      <th>enrolled_university</th>\n",
              "      <th>education_level</th>\n",
              "      <th>major_discipline</th>\n",
              "      <th>experience</th>\n",
              "      <th>company_size</th>\n",
              "      <th>company_type</th>\n",
              "      <th>current_jobexperience</th>\n",
              "      <th>training_hours</th>\n",
              "      <th>target</th>\n",
              "      <th>MD_Arts</th>\n",
              "      <th>MD_Business Degree</th>\n",
              "      <th>MD_Humanities</th>\n",
              "      <th>MD_No Major</th>\n",
              "      <th>MD_Other</th>\n",
              "      <th>MD_STEM</th>\n",
              "      <th>gender_Diverse</th>\n",
              "      <th>gender_Female</th>\n",
              "      <th>gender_Male</th>\n",
              "      <th>gender_Undisclosed</th>\n",
              "      <th>EU_Full time course</th>\n",
              "      <th>EU_Part time course</th>\n",
              "      <th>EU_no_enrollment</th>\n",
              "      <th>CT_Early Stage Startup</th>\n",
              "      <th>CT_Funded Startup</th>\n",
              "      <th>CT_NGO</th>\n",
              "      <th>CT_Other</th>\n",
              "      <th>CT_Public Sector</th>\n",
              "      <th>CT_Pvt Ltd</th>\n",
              "    </tr>\n",
              "  </thead>\n",
              "  <tbody>\n",
              "    <tr>\n",
              "      <th>0</th>\n",
              "      <td>8949</td>\n",
              "      <td>city_103</td>\n",
              "      <td>0.920</td>\n",
              "      <td>Male</td>\n",
              "      <td>1</td>\n",
              "      <td>no_enrollment</td>\n",
              "      <td>3</td>\n",
              "      <td>STEM</td>\n",
              "      <td>&gt;20</td>\n",
              "      <td>50-99</td>\n",
              "      <td>Pvt Ltd</td>\n",
              "      <td>1</td>\n",
              "      <td>36</td>\n",
              "      <td>1.0</td>\n",
              "      <td>0</td>\n",
              "      <td>0</td>\n",
              "      <td>0</td>\n",
              "      <td>0</td>\n",
              "      <td>0</td>\n",
              "      <td>1</td>\n",
              "      <td>0</td>\n",
              "      <td>0</td>\n",
              "      <td>1</td>\n",
              "      <td>0</td>\n",
              "      <td>0</td>\n",
              "      <td>0</td>\n",
              "      <td>1</td>\n",
              "      <td>0</td>\n",
              "      <td>0</td>\n",
              "      <td>0</td>\n",
              "      <td>0</td>\n",
              "      <td>0</td>\n",
              "      <td>1</td>\n",
              "    </tr>\n",
              "    <tr>\n",
              "      <th>1</th>\n",
              "      <td>29725</td>\n",
              "      <td>city_40</td>\n",
              "      <td>0.776</td>\n",
              "      <td>Male</td>\n",
              "      <td>0</td>\n",
              "      <td>no_enrollment</td>\n",
              "      <td>3</td>\n",
              "      <td>STEM</td>\n",
              "      <td>15</td>\n",
              "      <td>50-99</td>\n",
              "      <td>Pvt Ltd</td>\n",
              "      <td>&gt;4</td>\n",
              "      <td>47</td>\n",
              "      <td>0.0</td>\n",
              "      <td>0</td>\n",
              "      <td>0</td>\n",
              "      <td>0</td>\n",
              "      <td>0</td>\n",
              "      <td>0</td>\n",
              "      <td>1</td>\n",
              "      <td>0</td>\n",
              "      <td>0</td>\n",
              "      <td>1</td>\n",
              "      <td>0</td>\n",
              "      <td>0</td>\n",
              "      <td>0</td>\n",
              "      <td>1</td>\n",
              "      <td>0</td>\n",
              "      <td>0</td>\n",
              "      <td>0</td>\n",
              "      <td>0</td>\n",
              "      <td>0</td>\n",
              "      <td>1</td>\n",
              "    </tr>\n",
              "    <tr>\n",
              "      <th>2</th>\n",
              "      <td>11561</td>\n",
              "      <td>city_21</td>\n",
              "      <td>0.624</td>\n",
              "      <td>Undisclosed</td>\n",
              "      <td>0</td>\n",
              "      <td>Full time course</td>\n",
              "      <td>3</td>\n",
              "      <td>STEM</td>\n",
              "      <td>5</td>\n",
              "      <td>50-99</td>\n",
              "      <td>Pvt Ltd</td>\n",
              "      <td>5</td>\n",
              "      <td>83</td>\n",
              "      <td>0.0</td>\n",
              "      <td>0</td>\n",
              "      <td>0</td>\n",
              "      <td>0</td>\n",
              "      <td>0</td>\n",
              "      <td>0</td>\n",
              "      <td>1</td>\n",
              "      <td>0</td>\n",
              "      <td>0</td>\n",
              "      <td>0</td>\n",
              "      <td>1</td>\n",
              "      <td>1</td>\n",
              "      <td>0</td>\n",
              "      <td>0</td>\n",
              "      <td>0</td>\n",
              "      <td>0</td>\n",
              "      <td>0</td>\n",
              "      <td>0</td>\n",
              "      <td>0</td>\n",
              "      <td>1</td>\n",
              "    </tr>\n",
              "  </tbody>\n",
              "</table>\n",
              "</div>"
            ],
            "text/plain": [
              "   enrollee_id      city  ...  CT_Public Sector CT_Pvt Ltd\n",
              "0         8949  city_103  ...                 0          1\n",
              "1        29725   city_40  ...                 0          1\n",
              "2        11561   city_21  ...                 0          1\n",
              "\n",
              "[3 rows x 33 columns]"
            ]
          },
          "metadata": {
            "tags": []
          },
          "execution_count": 50
        }
      ]
    },
    {
      "cell_type": "markdown",
      "metadata": {
        "id": "AjHzEOiGyylE"
      },
      "source": [
        "2. Experience, Current Job Experience, and Company Size:\n",
        "\n",
        "> Data has been cleaned first, by removing > and < values by ceil and floor values respectively. And both the columns has been changed from object to int."
      ]
    },
    {
      "cell_type": "code",
      "metadata": {
        "id": "azEMsu8MKzVC"
      },
      "source": [
        "df.experience.replace({'<1': '0', '>20':'21'}, inplace=True)\n",
        "df['experience'] = df['experience'].astype(str).astype(int)"
      ],
      "execution_count": 51,
      "outputs": []
    },
    {
      "cell_type": "code",
      "metadata": {
        "id": "UO9lzTI1PWSX"
      },
      "source": [
        "df.current_jobexperience.replace({'<1': '0', '>20':'21', '>4':'5'}, inplace=True)\n",
        "df['current_jobexperience'] = df['current_jobexperience'].astype(str).astype(int)"
      ],
      "execution_count": 52,
      "outputs": []
    },
    {
      "cell_type": "code",
      "metadata": {
        "id": "Ny6ADemMSTwQ"
      },
      "source": [
        "df.company_size.replace({'<10': '0', '10/49':'1', '50-99':'2', '100-500':'3', '500-999':'4', '1000-4999':'5', '5000-9999':'6', '10000+':'7'}, inplace=True)\n",
        "df.company_size = df.company_size.astype(str).astype(int)"
      ],
      "execution_count": 53,
      "outputs": []
    },
    {
      "cell_type": "code",
      "metadata": {
        "colab": {
          "base_uri": "https://localhost:8080/"
        },
        "id": "2hnY8oEHTc6g",
        "outputId": "b658db73-55d2-48d5-c547-147f8fdab4c9"
      },
      "source": [
        "df.info()"
      ],
      "execution_count": 54,
      "outputs": [
        {
          "output_type": "stream",
          "text": [
            "<class 'pandas.core.frame.DataFrame'>\n",
            "RangeIndex: 19146 entries, 0 to 19145\n",
            "Data columns (total 33 columns):\n",
            " #   Column                  Non-Null Count  Dtype  \n",
            "---  ------                  --------------  -----  \n",
            " 0   enrollee_id             19146 non-null  int64  \n",
            " 1   city                    19146 non-null  object \n",
            " 2   city_development_index  19146 non-null  float64\n",
            " 3   gender                  19146 non-null  object \n",
            " 4   relevent_experience     19146 non-null  int64  \n",
            " 5   enrolled_university     19146 non-null  object \n",
            " 6   education_level         19146 non-null  int64  \n",
            " 7   major_discipline        19146 non-null  object \n",
            " 8   experience              19146 non-null  int64  \n",
            " 9   company_size            19146 non-null  int64  \n",
            " 10  company_type            19146 non-null  object \n",
            " 11  current_jobexperience   19146 non-null  int64  \n",
            " 12  training_hours          19146 non-null  int64  \n",
            " 13  target                  19146 non-null  float64\n",
            " 14  MD_Arts                 19146 non-null  uint8  \n",
            " 15  MD_Business Degree      19146 non-null  uint8  \n",
            " 16  MD_Humanities           19146 non-null  uint8  \n",
            " 17  MD_No Major             19146 non-null  uint8  \n",
            " 18  MD_Other                19146 non-null  uint8  \n",
            " 19  MD_STEM                 19146 non-null  uint8  \n",
            " 20  gender_Diverse          19146 non-null  uint8  \n",
            " 21  gender_Female           19146 non-null  uint8  \n",
            " 22  gender_Male             19146 non-null  uint8  \n",
            " 23  gender_Undisclosed      19146 non-null  uint8  \n",
            " 24  EU_Full time course     19146 non-null  uint8  \n",
            " 25  EU_Part time course     19146 non-null  uint8  \n",
            " 26  EU_no_enrollment        19146 non-null  uint8  \n",
            " 27  CT_Early Stage Startup  19146 non-null  uint8  \n",
            " 28  CT_Funded Startup       19146 non-null  uint8  \n",
            " 29  CT_NGO                  19146 non-null  uint8  \n",
            " 30  CT_Other                19146 non-null  uint8  \n",
            " 31  CT_Public Sector        19146 non-null  uint8  \n",
            " 32  CT_Pvt Ltd              19146 non-null  uint8  \n",
            "dtypes: float64(2), int64(7), object(5), uint8(19)\n",
            "memory usage: 2.4+ MB\n"
          ],
          "name": "stdout"
        }
      ]
    },
    {
      "cell_type": "markdown",
      "metadata": {
        "id": "4RJOrxDI2uI7"
      },
      "source": [
        "#### Selecting relevant features"
      ]
    },
    {
      "cell_type": "code",
      "metadata": {
        "id": "dDQiX67rTjyc"
      },
      "source": [
        "X = df.drop(['enrollee_id', 'city', 'gender', 'enrolled_university', 'major_discipline', 'company_type', 'target'], axis = 1)\n",
        "y = df.loc[:, 'target']"
      ],
      "execution_count": 55,
      "outputs": []
    },
    {
      "cell_type": "code",
      "metadata": {
        "colab": {
          "base_uri": "https://localhost:8080/",
          "height": 161
        },
        "id": "TacDR68iXoui",
        "outputId": "3b807306-2ca6-4934-b926-14d7b591b52a"
      },
      "source": [
        "X.head(2)"
      ],
      "execution_count": 56,
      "outputs": [
        {
          "output_type": "execute_result",
          "data": {
            "text/html": [
              "<div>\n",
              "<style scoped>\n",
              "    .dataframe tbody tr th:only-of-type {\n",
              "        vertical-align: middle;\n",
              "    }\n",
              "\n",
              "    .dataframe tbody tr th {\n",
              "        vertical-align: top;\n",
              "    }\n",
              "\n",
              "    .dataframe thead th {\n",
              "        text-align: right;\n",
              "    }\n",
              "</style>\n",
              "<table border=\"1\" class=\"dataframe\">\n",
              "  <thead>\n",
              "    <tr style=\"text-align: right;\">\n",
              "      <th></th>\n",
              "      <th>city_development_index</th>\n",
              "      <th>relevent_experience</th>\n",
              "      <th>education_level</th>\n",
              "      <th>experience</th>\n",
              "      <th>company_size</th>\n",
              "      <th>current_jobexperience</th>\n",
              "      <th>training_hours</th>\n",
              "      <th>MD_Arts</th>\n",
              "      <th>MD_Business Degree</th>\n",
              "      <th>MD_Humanities</th>\n",
              "      <th>MD_No Major</th>\n",
              "      <th>MD_Other</th>\n",
              "      <th>MD_STEM</th>\n",
              "      <th>gender_Diverse</th>\n",
              "      <th>gender_Female</th>\n",
              "      <th>gender_Male</th>\n",
              "      <th>gender_Undisclosed</th>\n",
              "      <th>EU_Full time course</th>\n",
              "      <th>EU_Part time course</th>\n",
              "      <th>EU_no_enrollment</th>\n",
              "      <th>CT_Early Stage Startup</th>\n",
              "      <th>CT_Funded Startup</th>\n",
              "      <th>CT_NGO</th>\n",
              "      <th>CT_Other</th>\n",
              "      <th>CT_Public Sector</th>\n",
              "      <th>CT_Pvt Ltd</th>\n",
              "    </tr>\n",
              "  </thead>\n",
              "  <tbody>\n",
              "    <tr>\n",
              "      <th>0</th>\n",
              "      <td>0.920</td>\n",
              "      <td>1</td>\n",
              "      <td>3</td>\n",
              "      <td>21</td>\n",
              "      <td>2</td>\n",
              "      <td>1</td>\n",
              "      <td>36</td>\n",
              "      <td>0</td>\n",
              "      <td>0</td>\n",
              "      <td>0</td>\n",
              "      <td>0</td>\n",
              "      <td>0</td>\n",
              "      <td>1</td>\n",
              "      <td>0</td>\n",
              "      <td>0</td>\n",
              "      <td>1</td>\n",
              "      <td>0</td>\n",
              "      <td>0</td>\n",
              "      <td>0</td>\n",
              "      <td>1</td>\n",
              "      <td>0</td>\n",
              "      <td>0</td>\n",
              "      <td>0</td>\n",
              "      <td>0</td>\n",
              "      <td>0</td>\n",
              "      <td>1</td>\n",
              "    </tr>\n",
              "    <tr>\n",
              "      <th>1</th>\n",
              "      <td>0.776</td>\n",
              "      <td>0</td>\n",
              "      <td>3</td>\n",
              "      <td>15</td>\n",
              "      <td>2</td>\n",
              "      <td>5</td>\n",
              "      <td>47</td>\n",
              "      <td>0</td>\n",
              "      <td>0</td>\n",
              "      <td>0</td>\n",
              "      <td>0</td>\n",
              "      <td>0</td>\n",
              "      <td>1</td>\n",
              "      <td>0</td>\n",
              "      <td>0</td>\n",
              "      <td>1</td>\n",
              "      <td>0</td>\n",
              "      <td>0</td>\n",
              "      <td>0</td>\n",
              "      <td>1</td>\n",
              "      <td>0</td>\n",
              "      <td>0</td>\n",
              "      <td>0</td>\n",
              "      <td>0</td>\n",
              "      <td>0</td>\n",
              "      <td>1</td>\n",
              "    </tr>\n",
              "  </tbody>\n",
              "</table>\n",
              "</div>"
            ],
            "text/plain": [
              "   city_development_index  relevent_experience  ...  CT_Public Sector  CT_Pvt Ltd\n",
              "0                   0.920                    1  ...                 0           1\n",
              "1                   0.776                    0  ...                 0           1\n",
              "\n",
              "[2 rows x 26 columns]"
            ]
          },
          "metadata": {
            "tags": []
          },
          "execution_count": 56
        }
      ]
    },
    {
      "cell_type": "markdown",
      "metadata": {
        "id": "x-7-lvhMYloX"
      },
      "source": [
        "## Treating Imbalance Data and Train Test Split\n",
        "\n",
        "* 80-20 split\n",
        "* 10 fold cross validation"
      ]
    },
    {
      "cell_type": "code",
      "metadata": {
        "id": "ZK1QDRgVYt3J"
      },
      "source": [
        "from sklearn.model_selection import train_test_split\n",
        "\n",
        "X_train_tts, X_test_tts, y_train_tts, y_test_tts = train_test_split(X, y, test_size=0.2, random_state=10)"
      ],
      "execution_count": 57,
      "outputs": []
    },
    {
      "cell_type": "code",
      "metadata": {
        "id": "GAI3gp8wYuAU"
      },
      "source": [
        "from sklearn.model_selection import KFold \n",
        "\n",
        "#Implementing cross validation\n",
        "n_fold = 10\n",
        "k_fold = KFold(n_splits=n_fold, shuffle = True, random_state= None )"
      ],
      "execution_count": 58,
      "outputs": []
    },
    {
      "cell_type": "markdown",
      "metadata": {
        "id": "2zultjkx3VFi"
      },
      "source": [
        "#### Class labels are imbalanced\n",
        "\n",
        "To address imbalance these methods are tried\n",
        "* Oversampling\n",
        "* SMOTE \n",
        "\n",
        "Applying Oversampling using SKLEARN\n",
        "\n",
        "**NOTE:** X_test_tts, y_test_tts will be kept separate and models will not be trained on these data. It will only be used to test models. It will not be used in K-fold as well as in Oversampling and SMOTE.\n"
      ]
    },
    {
      "cell_type": "markdown",
      "metadata": {
        "id": "YtIjXYYUNKMG"
      },
      "source": [
        "1. Oversampling"
      ]
    },
    {
      "cell_type": "code",
      "metadata": {
        "colab": {
          "base_uri": "https://localhost:8080/"
        },
        "id": "ErRuYoR1rdG-",
        "outputId": "8454a6e9-02f2-4757-dcf7-e6730f4fcc53"
      },
      "source": [
        "y.value_counts()"
      ],
      "execution_count": 59,
      "outputs": [
        {
          "output_type": "execute_result",
          "data": {
            "text/plain": [
              "0.0    14371\n",
              "1.0     4775\n",
              "Name: target, dtype: int64"
            ]
          },
          "metadata": {
            "tags": []
          },
          "execution_count": 59
        }
      ]
    },
    {
      "cell_type": "code",
      "metadata": {
        "colab": {
          "base_uri": "https://localhost:8080/"
        },
        "id": "0vWHH2l53QNO",
        "outputId": "acdf8e52-344a-404f-a012-99bf90bacf5d"
      },
      "source": [
        "from sklearn.utils import resample\n",
        "\n",
        "# concatenate our training data back together\n",
        "X_upsample = pd.concat([X_train_tts, y_train_tts], axis=1)\n",
        "\n",
        "# separate minority and majority classes\n",
        "no_job_change = X_upsample[X_upsample.target==0]\n",
        "job_change = X_upsample[X_upsample.target==1]\n",
        "\n",
        "# upsample minority\n",
        "job_change_upsample = resample(job_change,\n",
        "                          replace=True, # sample with replacement\n",
        "                          n_samples=len(no_job_change), # match number in majority class\n",
        "                          random_state=27) # reproducible results\n",
        "\n",
        "# combine majority and upsampled minority\n",
        "upsampled = pd.concat([no_job_change, job_change_upsample])\n",
        "\n",
        "# check new class counts\n",
        "upsampled.target.value_counts()"
      ],
      "execution_count": 60,
      "outputs": [
        {
          "output_type": "execute_result",
          "data": {
            "text/plain": [
              "1.0    11472\n",
              "0.0    11472\n",
              "Name: target, dtype: int64"
            ]
          },
          "metadata": {
            "tags": []
          },
          "execution_count": 60
        }
      ]
    },
    {
      "cell_type": "code",
      "metadata": {
        "id": "jTROvGSJ3QQt"
      },
      "source": [
        "y_train_upsample = upsampled.target\n",
        "X_train_upsample = upsampled.drop(['target'], axis=1)"
      ],
      "execution_count": 61,
      "outputs": []
    },
    {
      "cell_type": "markdown",
      "metadata": {
        "id": "eQRYZtTnx5QH"
      },
      "source": [
        "2. The Class is imbalanced: Applying SMOTE to up-sample the dataset"
      ]
    },
    {
      "cell_type": "code",
      "metadata": {
        "id": "-VUoqHgTx35c",
        "colab": {
          "base_uri": "https://localhost:8080/"
        },
        "outputId": "cb45564f-802c-4d5f-98d4-2f402ca9b7fa"
      },
      "source": [
        "from imblearn.over_sampling import SMOTE"
      ],
      "execution_count": 62,
      "outputs": [
        {
          "output_type": "stream",
          "text": [
            "/usr/local/lib/python3.7/dist-packages/sklearn/externals/six.py:31: FutureWarning: The module is deprecated in version 0.21 and will be removed in version 0.23 since we've dropped support for Python 2.7. Please rely on the official version of six (https://pypi.org/project/six/).\n",
            "  \"(https://pypi.org/project/six/).\", FutureWarning)\n",
            "/usr/local/lib/python3.7/dist-packages/sklearn/utils/deprecation.py:144: FutureWarning: The sklearn.neighbors.base module is  deprecated in version 0.22 and will be removed in version 0.24. The corresponding classes / functions should instead be imported from sklearn.neighbors. Anything that cannot be imported from sklearn.neighbors is now part of the private API.\n",
            "  warnings.warn(message, FutureWarning)\n"
          ],
          "name": "stderr"
        }
      ]
    },
    {
      "cell_type": "code",
      "metadata": {
        "colab": {
          "base_uri": "https://localhost:8080/"
        },
        "id": "m7WjyVV3x381",
        "outputId": "b92195af-30de-40f5-b15b-630db9ae80aa"
      },
      "source": [
        "sm = SMOTE(random_state=27, ratio=1.0)\n",
        "X_train_SMOTE, y_train_SMOTE = sm.fit_sample(X_train_tts, y_train_tts)"
      ],
      "execution_count": 63,
      "outputs": [
        {
          "output_type": "stream",
          "text": [
            "/usr/local/lib/python3.7/dist-packages/sklearn/utils/deprecation.py:87: FutureWarning: Function safe_indexing is deprecated; safe_indexing is deprecated in version 0.22 and will be removed in version 0.24.\n",
            "  warnings.warn(msg, category=FutureWarning)\n"
          ],
          "name": "stderr"
        }
      ]
    },
    {
      "cell_type": "code",
      "metadata": {
        "colab": {
          "base_uri": "https://localhost:8080/"
        },
        "id": "X6RY8CQLx4Aa",
        "outputId": "767d1480-8689-42a9-e2a3-86a3262d23bc"
      },
      "source": [
        "X_train_SMOTE.shape"
      ],
      "execution_count": 64,
      "outputs": [
        {
          "output_type": "execute_result",
          "data": {
            "text/plain": [
              "(22944, 26)"
            ]
          },
          "metadata": {
            "tags": []
          },
          "execution_count": 64
        }
      ]
    },
    {
      "cell_type": "code",
      "metadata": {
        "colab": {
          "base_uri": "https://localhost:8080/"
        },
        "id": "YWp1M20-yd5l",
        "outputId": "40c5935c-a1d7-49a1-cfb4-1d22965900d6"
      },
      "source": [
        "np.unique(y_train_SMOTE, return_counts=True)"
      ],
      "execution_count": 65,
      "outputs": [
        {
          "output_type": "execute_result",
          "data": {
            "text/plain": [
              "(array([0., 1.]), array([11472, 11472]))"
            ]
          },
          "metadata": {
            "tags": []
          },
          "execution_count": 65
        }
      ]
    },
    {
      "cell_type": "markdown",
      "metadata": {
        "id": "v3vrvV3jX79A"
      },
      "source": [
        "## Modelling\n",
        "\n",
        "## 1. Logistic Regression\n",
        "\n",
        "tts --> Train test split\n",
        "\n"
      ]
    },
    {
      "cell_type": "code",
      "metadata": {
        "id": "H4wLfI-kO2CK"
      },
      "source": [
        "from sklearn.linear_model import LogisticRegression\n",
        "from sklearn.metrics import accuracy_score, roc_auc_score, roc_curve, plot_roc_curve, f1_score"
      ],
      "execution_count": 66,
      "outputs": []
    },
    {
      "cell_type": "code",
      "metadata": {
        "colab": {
          "base_uri": "https://localhost:8080/"
        },
        "id": "AW0k1RdGjnSX",
        "outputId": "658eccd6-269d-4bbe-cf29-96885479caed"
      },
      "source": [
        "#### 1. Train Test Split\n",
        "logistic_model_tts = LogisticRegression(solver = 'liblinear')\n",
        "logistic_model_tts.fit(X_train_tts, y_train_tts)\n",
        "\n",
        "y_pred_tts = logistic_model_tts.predict(X_test_tts)\n",
        "\n",
        "# ROC AUC tts\n",
        "y_score_tts = logistic_model_tts.predict_proba(X_train_tts)[:, 1]\n",
        "\n",
        "f1_logistic_model_tts = f1_score(y_test_tts, y_pred_tts)\n",
        "print('F1 score tts: %f' % f1_logistic_model_tts)"
      ],
      "execution_count": 67,
      "outputs": [
        {
          "output_type": "stream",
          "text": [
            "F1 score tts: 0.335654\n"
          ],
          "name": "stdout"
        }
      ]
    },
    {
      "cell_type": "code",
      "metadata": {
        "colab": {
          "base_uri": "https://localhost:8080/"
        },
        "id": "dcYd2PHwjrd0",
        "outputId": "b3b07f9e-dfd0-4829-fe35-6be886b3b9b9"
      },
      "source": [
        "#### 2. SMOTE\n",
        "logistic_model_SMOTE = LogisticRegression(solver = 'liblinear')\n",
        "logistic_model_SMOTE.fit(X_train_SMOTE, y_train_SMOTE)\n",
        "\n",
        "y_pred_SMOTE = logistic_model_SMOTE.predict(X_test_tts)\n",
        "\n",
        "# Roc Auc SMOTE\n",
        "y_score_SMOTE = logistic_model_SMOTE.predict_proba(X_train_SMOTE)[:, 1]\n",
        "\n",
        "# F1 score SMOTE\n",
        "f1_logistic_model_SMOTE = f1_score(y_test_tts, y_pred_SMOTE)\n",
        "print('F1 score SMOTE: %f' % f1_logistic_model_SMOTE)"
      ],
      "execution_count": 68,
      "outputs": [
        {
          "output_type": "stream",
          "text": [
            "F1 score SMOTE: 0.523788\n"
          ],
          "name": "stdout"
        }
      ]
    },
    {
      "cell_type": "code",
      "metadata": {
        "colab": {
          "base_uri": "https://localhost:8080/"
        },
        "id": "U3K7y2LJj0KI",
        "outputId": "93cf63a1-eb01-4196-a4fb-19383701778a"
      },
      "source": [
        "#### 3. Upsample\n",
        "logistic_model_upsample = LogisticRegression(solver = 'liblinear')\n",
        "logistic_model_upsample.fit(X_train_upsample, y_train_upsample)\n",
        "\n",
        "y_pred_upsample = logistic_model_upsample.predict(X_test_tts)\n",
        "\n",
        "#ROC AUC Upsample\n",
        "y_score_upsample = logistic_model_tts.predict_proba(X_train_upsample)[:, 1]\n",
        "\n",
        "# F1 score Upsample\n",
        "f1_logistic_model_upsample = f1_score(y_test_tts, y_pred_upsample)\n",
        "print('F1 score Upsample: %f' % f1_logistic_model_upsample)"
      ],
      "execution_count": 69,
      "outputs": [
        {
          "output_type": "stream",
          "text": [
            "F1 score Upsample: 0.520246\n"
          ],
          "name": "stdout"
        }
      ]
    },
    {
      "cell_type": "code",
      "metadata": {
        "colab": {
          "base_uri": "https://localhost:8080/"
        },
        "id": "HZJ8JwhdZqEV",
        "outputId": "ae555ad4-297e-4203-b690-617d2748446e"
      },
      "source": [
        "#### 4. K-Fold cross validation\n",
        "logistic_model_kf = LogisticRegression(solver = 'liblinear')\n",
        "accuracy_kf = []\n",
        "for train_index , test_index in k_fold.split(X):\n",
        "    X_train , X_test = X.iloc[train_index,:],X.iloc[test_index,:]\n",
        "    y_train , y_test = y[train_index] , y[test_index]\n",
        "\n",
        "    logistic_model_kf.fit(X_train, y_train)\n",
        "\n",
        "#ROC AUC kf (imbalanced)\n",
        "y_score_kf = logistic_model_kf.predict_proba(X_train)[:, 1]\n",
        "\n",
        "# F1 score kf\n",
        "y_pred_kf = logistic_model_kf.predict(X_test_tts)\n",
        "f1_logistic_model_kf = f1_score(y_test_tts, y_pred_kf)\n",
        "print('F1 score kf: %f' % f1_logistic_model_kf)"
      ],
      "execution_count": 70,
      "outputs": [
        {
          "output_type": "stream",
          "text": [
            "F1 score kf: 0.348624\n"
          ],
          "name": "stdout"
        }
      ]
    },
    {
      "cell_type": "markdown",
      "metadata": {
        "id": "-Q1EbvIeOc7c"
      },
      "source": [
        "* SMOTE and Upsample were proven to be better amongst them"
      ]
    },
    {
      "cell_type": "code",
      "metadata": {
        "colab": {
          "base_uri": "https://localhost:8080/",
          "height": 558
        },
        "id": "9wIIB1ygN8Pe",
        "outputId": "fca6e082-890a-4d39-a7bd-74b15d3b63db"
      },
      "source": [
        "plot_roc_curve(logistic_model_SMOTE, X_test_tts, y_test_tts)\n",
        "plot_roc_curve(logistic_model_upsample, X_test_tts, y_test_tts)"
      ],
      "execution_count": 71,
      "outputs": [
        {
          "output_type": "execute_result",
          "data": {
            "text/plain": [
              "<sklearn.metrics._plot.roc_curve.RocCurveDisplay at 0x7efc3e3e4890>"
            ]
          },
          "metadata": {
            "tags": []
          },
          "execution_count": 71
        },
        {
          "output_type": "display_data",
          "data": {
            "image/png": "[encoded data removed]",
            "text/plain": [
              "<Figure size 432x288 with 1 Axes>"
            ]
          },
          "metadata": {
            "tags": [],
            "needs_background": "light"
          }
        },
        {
          "output_type": "display_data",
          "data": {
            "image/png": "[encoded data removed]",
            "text/plain": [
              "<Figure size 432x288 with 1 Axes>"
            ]
          },
          "metadata": {
            "tags": [],
            "needs_background": "light"
          }
        }
      ]
    },
    {
      "cell_type": "markdown",
      "metadata": {
        "id": "IAD5_7BllmnF"
      },
      "source": [
        "## 2. Decision Tree "
      ]
    },
    {
      "cell_type": "code",
      "metadata": {
        "id": "JuCpj5y6nIAS"
      },
      "source": [
        "from sklearn.tree import DecisionTreeClassifier\n",
        "from sklearn import tree\n",
        "from sklearn import metrics\n",
        "\n",
        "dt_accuracy_SMOTE = []\n",
        "dt_train_accuracy_SMOTE = []\n",
        "dt_accuracy_upsample = []\n",
        "dt_train_accuracy_upsample = []\n",
        "\n",
        "dt_score_SMOTE=[]\n",
        "dt_score_upsample=[]\n",
        "\n",
        "F1_d_tree_model_SMOTE = []\n",
        "F1_d_tree_model_upsample =[]"
      ],
      "execution_count": 72,
      "outputs": []
    },
    {
      "cell_type": "code",
      "metadata": {
        "id": "-Sa00NM6rWUb"
      },
      "source": [
        "d_tree_depth = range(1,15)\n",
        "\n",
        "for d in d_tree_depth:\n",
        "  #### 1. SMOTE\n",
        "  d_tree_model_SMOTE = DecisionTreeClassifier(criterion=\"entropy\", max_depth=d)\n",
        "  d_tree_model_SMOTE.fit(X_train_SMOTE, y_train_SMOTE)\n",
        "\n",
        "  y_hat_pred_SMOTE = d_tree_model_SMOTE.predict(X_test_tts)\n",
        "\n",
        "  # Roc Auc SMOTE\n",
        "  dt_score_SMOTE.append(roc_auc_score(y_test_tts, d_tree_model_SMOTE.predict_proba(X_test_tts)[:,1])) \n",
        "\n",
        "  # F1 score DT SMOTE\n",
        "  F1_d_tree_model_SMOTE.append(f1_score(y_test_tts, y_hat_pred_SMOTE))\n",
        "  \n",
        "\n",
        "  #### 2. Upsample\n",
        "  d_tree_model_upsample = DecisionTreeClassifier(criterion=\"entropy\", max_depth=d)\n",
        "  d_tree_model_upsample.fit(X_train_upsample, y_train_upsample)\n",
        "\n",
        "  y_hat_pred_upsample = d_tree_model_upsample.predict(X_test_tts)\n",
        "\n",
        "  # Roc Auc Upsample\n",
        "  dt_score_upsample.append(roc_auc_score(y_test_tts, d_tree_model_upsample.predict_proba(X_test_tts)[:,1])) \n",
        "\n",
        "  # F1 score DT Upsample\n",
        "  F1_d_tree_model_upsample.append(f1_score(y_test_tts, y_hat_pred_upsample))\n"
      ],
      "execution_count": 73,
      "outputs": []
    },
    {
      "cell_type": "code",
      "metadata": {
        "colab": {
          "base_uri": "https://localhost:8080/",
          "height": 404
        },
        "id": "7jOOOslW1VWu",
        "outputId": "c803c805-c062-483d-c706-c7b4c89a95c0"
      },
      "source": [
        "plt.figure(figsize=(10,6))\n",
        "plt.plot(d_tree_depth, dt_score_SMOTE)\n",
        "plt.plot(d_tree_depth, dt_score_upsample)\n",
        "plt.plot(d_tree_depth, F1_d_tree_model_SMOTE)\n",
        "plt.plot(d_tree_depth, F1_d_tree_model_upsample)\n",
        "plt.xlabel('Tree Depth')\n",
        "plt.ylabel('Accuracy')\n",
        "plt.legend(['AUC SMOTE', 'AUC upsample', 'F1 SMOTE', 'F1 upsample'])\n",
        "plt.title('Decision Tree Model Accuracy - SMOTE', fontsize=14)\n",
        "plt.show()"
      ],
      "execution_count": 74,
      "outputs": [
        {
          "output_type": "display_data",
          "data": {
            "image/png": "[encoded data removed]",
            "text/plain": [
              "<Figure size 720x432 with 1 Axes>"
            ]
          },
          "metadata": {
            "tags": [],
            "needs_background": "light"
          }
        }
      ]
    },
    {
      "cell_type": "markdown",
      "metadata": {
        "id": "RBEKXRNdrTQ5"
      },
      "source": [
        "Best model is the one having Depth=6"
      ]
    },
    {
      "cell_type": "code",
      "metadata": {
        "colab": {
          "base_uri": "https://localhost:8080/",
          "height": 296
        },
        "id": "w5i3vZ7VrSZa",
        "outputId": "a06c551f-cb23-4f97-fae3-ec8f6ec460b6"
      },
      "source": [
        "d_tree_model_best = DecisionTreeClassifier(criterion=\"entropy\", max_depth=6)\n",
        "d_tree_model_best.fit(X_train_upsample, y_train_upsample)\n",
        "\n",
        "plot_roc_curve(d_tree_model_best, X_test_tts, y_test_tts)"
      ],
      "execution_count": 75,
      "outputs": [
        {
          "output_type": "execute_result",
          "data": {
            "text/plain": [
              "<sklearn.metrics._plot.roc_curve.RocCurveDisplay at 0x7efc30d72d50>"
            ]
          },
          "metadata": {
            "tags": []
          },
          "execution_count": 75
        },
        {
          "output_type": "display_data",
          "data": {
            "image/png": "[encoded data removed]",
            "text/plain": [
              "<Figure size 432x288 with 1 Axes>"
            ]
          },
          "metadata": {
            "tags": [],
            "needs_background": "light"
          }
        }
      ]
    },
    {
      "cell_type": "markdown",
      "metadata": {
        "id": "jJSLLlGW1_qa"
      },
      "source": [
        "## 3. Random Forest"
      ]
    },
    {
      "cell_type": "code",
      "metadata": {
        "id": "n4WDtsTsul4c"
      },
      "source": [
        "from sklearn.ensemble import RandomForestClassifier\n",
        "from sklearn.model_selection import RepeatedStratifiedKFold\n",
        "from sklearn.model_selection import GridSearchCV\n",
        "from sklearn.metrics import roc_curve, precision_recall_curve, auc, make_scorer, recall_score, accuracy_score, precision_score, confusion_matrix, f1_score"
      ],
      "execution_count": 76,
      "outputs": []
    },
    {
      "cell_type": "markdown",
      "metadata": {
        "id": "nE9jl8n3wGWH"
      },
      "source": [
        "#### Grid Search\n",
        "#### Final tuned parameters are close to this range:\n",
        "\n",
        "max_depth=7 , max_leaf_nodes=19, min_samples_split=2, min_samples_leaf=11, n_estimators= 43, max_features = \"sqrt\""
      ]
    },
    {
      "cell_type": "code",
      "metadata": {
        "id": "LjmbwG7gRHdW",
        "colab": {
          "base_uri": "https://localhost:8080/"
        },
        "outputId": "a36392cc-cdd8-43ed-b535-b56290146b24"
      },
      "source": [
        "# define model\n",
        "model = RandomForestClassifier()\n",
        "\n",
        "# define evaluation   \n",
        "cv = RepeatedStratifiedKFold(n_splits=5, n_repeats=2, random_state=1)\n",
        "\n",
        "# define search space\n",
        "space = dict()\n",
        "space['max_depth'] = range(5,10)\n",
        "space['max_leaf_nodes'] = range(17,20)\n",
        "space['min_samples_leaf'] = range(10,15)\n",
        "space['n_estimators'] = range(40,45)\n",
        "space['max_samples'] = [0.30]\n",
        "space['max_features'] = ['sqrt']\n",
        "scorers = {\n",
        "    'precision_score': make_scorer(precision_score),\n",
        "    'recall_score': make_scorer(recall_score),\n",
        "    'accuracy_score': make_scorer(accuracy_score),\n",
        "    'f1_score' : make_scorer(f1_score)\n",
        "}\n",
        "space"
      ],
      "execution_count": 77,
      "outputs": [
        {
          "output_type": "execute_result",
          "data": {
            "text/plain": [
              "{'max_depth': range(5, 10),\n",
              " 'max_features': ['sqrt'],\n",
              " 'max_leaf_nodes': range(17, 20),\n",
              " 'max_samples': [0.3],\n",
              " 'min_samples_leaf': range(10, 15),\n",
              " 'n_estimators': range(40, 45)}"
            ]
          },
          "metadata": {
            "tags": []
          },
          "execution_count": 77
        }
      ]
    },
    {
      "cell_type": "code",
      "metadata": {
        "id": "F64IfHDeG-cG",
        "colab": {
          "base_uri": "https://localhost:8080/"
        },
        "outputId": "193f0a87-2403-4e88-a6fa-0f4f0849d485"
      },
      "source": [
        "# define search\n",
        "search = GridSearchCV(estimator=model, param_grid=space, scoring=scorers, n_jobs=-1, cv=cv, verbose=3, refit = 'f1_score')\n",
        "# execute search\n",
        "result = search.fit(X, y)\n",
        "# summarize result\n",
        "print('Best Score: %s' % result.best_score_)\n",
        "print('Best Hyperparameters: %s' % result.best_params_)"
      ],
      "execution_count": 78,
      "outputs": [
        {
          "output_type": "stream",
          "text": [
            "Fitting 10 folds for each of 375 candidates, totalling 3750 fits\n"
          ],
          "name": "stdout"
        },
        {
          "output_type": "stream",
          "text": [
            "[Parallel(n_jobs=-1)]: Using backend LokyBackend with 2 concurrent workers.\n",
            "[Parallel(n_jobs=-1)]: Done  28 tasks      | elapsed:    6.1s\n",
            "[Parallel(n_jobs=-1)]: Done 124 tasks      | elapsed:   22.4s\n",
            "[Parallel(n_jobs=-1)]: Done 284 tasks      | elapsed:   49.6s\n",
            "[Parallel(n_jobs=-1)]: Done 508 tasks      | elapsed:  1.5min\n",
            "[Parallel(n_jobs=-1)]: Done 796 tasks      | elapsed:  2.2min\n",
            "[Parallel(n_jobs=-1)]: Done 1148 tasks      | elapsed:  3.2min\n",
            "[Parallel(n_jobs=-1)]: Done 1564 tasks      | elapsed:  4.4min\n",
            "[Parallel(n_jobs=-1)]: Done 2044 tasks      | elapsed:  5.8min\n",
            "[Parallel(n_jobs=-1)]: Done 2588 tasks      | elapsed:  7.3min\n",
            "[Parallel(n_jobs=-1)]: Done 3196 tasks      | elapsed:  9.1min\n",
            "[Parallel(n_jobs=-1)]: Done 3750 out of 3750 | elapsed: 10.9min finished\n"
          ],
          "name": "stderr"
        },
        {
          "output_type": "stream",
          "text": [
            "Best Score: 0.2847844112559379\n",
            "Best Hyperparameters: {'max_depth': 9, 'max_features': 'sqrt', 'max_leaf_nodes': 18, 'max_samples': 0.3, 'min_samples_leaf': 13, 'n_estimators': 40}\n"
          ],
          "name": "stdout"
        }
      ]
    },
    {
      "cell_type": "code",
      "metadata": {
        "id": "HikxUn5R0tDs"
      },
      "source": [
        "from sklearn.ensemble import RandomForestClassifier\n",
        "\n",
        "rf_model_SMOTE = RandomForestClassifier(bootstrap=True, max_depth=7 , max_leaf_nodes=19, min_samples_split=2, min_samples_leaf=14, n_estimators= 43, max_features = \"sqrt\")\n",
        "rf_model_SMOTE.fit(X_train_SMOTE,y_train_SMOTE)\n",
        "\n",
        "y_train_pred_SMOTE = rf_model_SMOTE.predict(X_train_SMOTE)\n",
        "y_pred_SMOTE=rf_model_SMOTE.predict(X_test_tts)\n",
        "\n",
        "f1_rf_train = f1_score(y_train_SMOTE, y_train_pred_SMOTE)\n",
        "f1_rf_test = f1_score(y_test_tts, y_pred_SMOTE)\n",
        "\n",
        "rf_score_train_SMOTE = roc_auc_score(y_train_SMOTE, rf_model_SMOTE.predict_proba(X_train_SMOTE)[:,1])\n",
        "rf_score_SMOTE = roc_auc_score(y_test_tts, rf_model_SMOTE.predict_proba(X_test_tts)[:,1])"
      ],
      "execution_count": 79,
      "outputs": []
    },
    {
      "cell_type": "code",
      "metadata": {
        "colab": {
          "base_uri": "https://localhost:8080/"
        },
        "id": "4BpsUYVz5wfZ",
        "outputId": "53803551-8bd0-46b9-d54c-ca2b119d0f41"
      },
      "source": [
        "print('F1 Train', f1_rf_train)\n",
        "print('F1 Test', f1_rf_test)\n",
        "\n",
        "print('Auc_ Train', rf_score_train_SMOTE)\n",
        "print('Auc Test', rf_score_SMOTE)"
      ],
      "execution_count": 80,
      "outputs": [
        {
          "output_type": "stream",
          "text": [
            "F1 Train 0.7942571010767936\n",
            "F1 Test 0.5252317198764161\n",
            "Auc_ Train 0.8722471137962006\n",
            "Auc Test 0.7334698916512195\n"
          ],
          "name": "stdout"
        }
      ]
    },
    {
      "cell_type": "markdown",
      "metadata": {
        "id": "5CXm2w4a71Zp"
      },
      "source": [
        "#### Test Data\n",
        "\n",
        "Download test data provided by Kaggle and preprocess in the similar way"
      ]
    },
    {
      "cell_type": "code",
      "metadata": {
        "id": "NkMMDL5m9ZUe",
        "colab": {
          "base_uri": "https://localhost:8080/"
        },
        "outputId": "836e3815-8906-47b2-d59d-59de7faa8ba2"
      },
      "source": [
        "#https://drive.google.com/file/d/1tcUmQGe0GHDVTT_-OGUN4qD16F2d3Y8V/view?usp=sharing\n",
        "!wget --no-check-certificate 'https://docs.google.com/uc?export=download&id=1tcUmQGe0GHDVTT_-OGUN4qD16F2d3Y8V' -O hranalytics_solutions.npy\n",
        "#https://drive.google.com/file/d/1EAjlxXF0nPe5iccoeKbr5IjHMkd_KFW5/view?usp=sharing\n",
        "!wget --no-check-certificate 'https://docs.google.com/uc?export=download&id=1EAjlxXF0nPe5iccoeKbr5IjHMkd_KFW5' -O hranalytics_test.csv\n",
        "target_data = np.load('hranalytics_solutions.npy')\n",
        "df_test = pd.read_csv('hranalytics_test.csv')\n",
        "\n",
        "target_data"
      ],
      "execution_count": 81,
      "outputs": [
        {
          "output_type": "stream",
          "text": [
            "--2021-05-26 20:02:09--  https://docs.google.com/uc?export=download&id=1tcUmQGe0GHDVTT_-OGUN4qD16F2d3Y8V\n",
            "Resolving docs.google.com (docs.google.com)... 108.177.12.100, 108.177.12.138, 108.177.12.102, ...\n",
            "Connecting to docs.google.com (docs.google.com)|108.177.12.100|:443... connected.\n",
            "HTTP request sent, awaiting response... 302 Moved Temporarily\n",
            "Location: https://doc-14-54-docs.googleusercontent.com/docs/securesc/ha0ro937gcuc7l7deffksulhg5h7mbp1/u67htsram43q11s4m5cjo15fk8ahcqtq/1622059275000/09624322204420852874/*/1tcUmQGe0GHDVTT_-OGUN4qD16F2d3Y8V?e=download [following]\n",
            "Warning: wildcards not supported in HTTP.\n",
            "--2021-05-26 20:02:09--  https://doc-14-54-docs.googleusercontent.com/docs/securesc/ha0ro937gcuc7l7deffksulhg5h7mbp1/u67htsram43q11s4m5cjo15fk8ahcqtq/1622059275000/09624322204420852874/*/1tcUmQGe0GHDVTT_-OGUN4qD16F2d3Y8V?e=download\n",
            "Resolving doc-14-54-docs.googleusercontent.com (doc-14-54-docs.googleusercontent.com)... 173.194.213.132, 2607:f8b0:400c:c0a::84\n",
            "Connecting to doc-14-54-docs.googleusercontent.com (doc-14-54-docs.googleusercontent.com)|173.194.213.132|:443... connected.\n",
            "HTTP request sent, awaiting response... 200 OK\n",
            "Length: 17160 (17K) [application/octet-stream]\n",
            "Saving to: ‘hranalytics_solutions.npy’\n",
            "\n",
            "hranalytics_solutio 100%[===================>]  16.76K  --.-KB/s    in 0s      \n",
            "\n",
            "2021-05-26 20:02:10 (40.3 MB/s) - ‘hranalytics_solutions.npy’ saved [17160/17160]\n",
            "\n",
            "--2021-05-26 20:02:10--  https://docs.google.com/uc?export=download&id=1EAjlxXF0nPe5iccoeKbr5IjHMkd_KFW5\n",
            "Resolving docs.google.com (docs.google.com)... 108.177.12.100, 108.177.12.138, 108.177.12.102, ...\n",
            "Connecting to docs.google.com (docs.google.com)|108.177.12.100|:443... connected.\n",
            "HTTP request sent, awaiting response... 302 Moved Temporarily\n",
            "Location: https://doc-0k-54-docs.googleusercontent.com/docs/securesc/ha0ro937gcuc7l7deffksulhg5h7mbp1/i8gfom3guo6bt0e6udn985g90334sii4/1622059275000/09624322204420852874/*/1EAjlxXF0nPe5iccoeKbr5IjHMkd_KFW5?e=download [following]\n",
            "Warning: wildcards not supported in HTTP.\n",
            "--2021-05-26 20:02:10--  https://doc-0k-54-docs.googleusercontent.com/docs/securesc/ha0ro937gcuc7l7deffksulhg5h7mbp1/i8gfom3guo6bt0e6udn985g90334sii4/1622059275000/09624322204420852874/*/1EAjlxXF0nPe5iccoeKbr5IjHMkd_KFW5?e=download\n",
            "Resolving doc-0k-54-docs.googleusercontent.com (doc-0k-54-docs.googleusercontent.com)... 173.194.213.132, 2607:f8b0:400c:c0a::84\n",
            "Connecting to doc-0k-54-docs.googleusercontent.com (doc-0k-54-docs.googleusercontent.com)|173.194.213.132|:443... connected.\n",
            "HTTP request sent, awaiting response... 200 OK\n",
            "Length: 210504 (206K) [text/csv]\n",
            "Saving to: ‘hranalytics_test.csv’\n",
            "\n",
            "hranalytics_test.cs 100%[===================>] 205.57K  --.-KB/s    in 0.002s  \n",
            "\n",
            "2021-05-26 20:02:10 (85.1 MB/s) - ‘hranalytics_test.csv’ saved [210504/210504]\n",
            "\n"
          ],
          "name": "stdout"
        },
        {
          "output_type": "execute_result",
          "data": {
            "text/plain": [
              "array([1., 0., 1., ..., 0., 0., 0.])"
            ]
          },
          "metadata": {
            "tags": []
          },
          "execution_count": 81
        }
      ]
    },
    {
      "cell_type": "code",
      "metadata": {
        "id": "VK9pgucj9OCX",
        "colab": {
          "base_uri": "https://localhost:8080/"
        },
        "outputId": "90234033-d1ac-463e-cca8-a07c16bb01b4"
      },
      "source": [
        "df_test.isnull().sum()"
      ],
      "execution_count": 82,
      "outputs": [
        {
          "output_type": "execute_result",
          "data": {
            "text/plain": [
              "enrollee_id                 0\n",
              "city                        0\n",
              "city_development_index      0\n",
              "gender                    508\n",
              "relevent_experience         0\n",
              "enrolled_university        31\n",
              "education_level            52\n",
              "major_discipline          312\n",
              "experience                  5\n",
              "company_size              622\n",
              "company_type              634\n",
              "last_new_job               40\n",
              "training_hours              0\n",
              "dtype: int64"
            ]
          },
          "metadata": {
            "tags": []
          },
          "execution_count": 82
        }
      ]
    },
    {
      "cell_type": "code",
      "metadata": {
        "id": "SHw6QIs7-EiZ"
      },
      "source": [
        "df_test['gender'] = df_test['gender'].fillna('Undisclosed')"
      ],
      "execution_count": 83,
      "outputs": []
    },
    {
      "cell_type": "code",
      "metadata": {
        "id": "HO1zJETJ-Eij"
      },
      "source": [
        "df_test[\"gender\"].replace({\"Other\": \"Diverse\"}, inplace=True)"
      ],
      "execution_count": 84,
      "outputs": []
    },
    {
      "cell_type": "code",
      "metadata": {
        "id": "9pUsgF7C-Eik"
      },
      "source": [
        "df_test['enrolled_university'] = df_test['enrolled_university'].fillna(df_test['enrolled_university'].mode().iloc[0])"
      ],
      "execution_count": 85,
      "outputs": []
    },
    {
      "cell_type": "code",
      "metadata": {
        "id": "MWHWwzMd-Eil"
      },
      "source": [
        "df_test['education_level'] = df_test['education_level'].fillna(df_test['education_level'].mode().iloc[0])"
      ],
      "execution_count": 86,
      "outputs": []
    },
    {
      "cell_type": "code",
      "metadata": {
        "id": "uR4QCLsT-Eim"
      },
      "source": [
        "df_test.rename(columns={'last_new_job' : 'current_jobexperience'}, inplace= True)"
      ],
      "execution_count": 87,
      "outputs": []
    },
    {
      "cell_type": "code",
      "metadata": {
        "id": "KGyXDT2M-Eim",
        "colab": {
          "base_uri": "https://localhost:8080/"
        },
        "outputId": "b810288f-add2-4353-f156-b542fa8ba3da"
      },
      "source": [
        "df_test[df_test['company_type'] == 'Pvt Ltd'].company_size.value_counts()"
      ],
      "execution_count": 88,
      "outputs": [
        {
          "output_type": "execute_result",
          "data": {
            "text/plain": [
              "50-99        241\n",
              "100-500      233\n",
              "10000+       184\n",
              "1000-4999    111\n",
              "10/49        109\n",
              "<10           96\n",
              "500-999       68\n",
              "5000-9999     50\n",
              "Name: company_size, dtype: int64"
            ]
          },
          "metadata": {
            "tags": []
          },
          "execution_count": 88
        }
      ]
    },
    {
      "cell_type": "code",
      "metadata": {
        "id": "2j5m8TYM-Eio"
      },
      "source": [
        "df_test['company_size'] = df_test['company_size'].fillna(method='bfill')\n",
        "df_test['company_size'] = df_test['company_size'].fillna(method='ffill')"
      ],
      "execution_count": 89,
      "outputs": []
    },
    {
      "cell_type": "code",
      "metadata": {
        "id": "ZNLS6qox-Eip"
      },
      "source": [
        "df_test['company_type'] = df_test['company_type'].fillna(method='bfill')\n",
        "df_test['company_type'] = df_test['company_type'].fillna(method='ffill')"
      ],
      "execution_count": 90,
      "outputs": []
    },
    {
      "cell_type": "code",
      "metadata": {
        "id": "X4EA6zsR-Eip"
      },
      "source": [
        "df_test['experience'] = df_test['experience'].fillna(method='ffill')"
      ],
      "execution_count": 91,
      "outputs": []
    },
    {
      "cell_type": "code",
      "metadata": {
        "id": "oEenKuri-Eiq"
      },
      "source": [
        "df_test['current_jobexperience'] = df_test['current_jobexperience'].fillna(df_test.experience)"
      ],
      "execution_count": 92,
      "outputs": []
    },
    {
      "cell_type": "code",
      "metadata": {
        "id": "Yh1c7t0z-Eiq"
      },
      "source": [
        "df_test['current_jobexperience'] = df_test['current_jobexperience'].fillna(df_test.experience)"
      ],
      "execution_count": 93,
      "outputs": []
    },
    {
      "cell_type": "code",
      "metadata": {
        "id": "jO2L8owh-Eiq"
      },
      "source": [
        "df_test.loc[df_test['current_jobexperience']=='never', 'current_jobexperience'] = df_test['experience']"
      ],
      "execution_count": 94,
      "outputs": []
    },
    {
      "cell_type": "code",
      "metadata": {
        "id": "FvRW-kx9-Eir"
      },
      "source": [
        "df_test.major_discipline = df_test.major_discipline.fillna(method = 'ffill')"
      ],
      "execution_count": 95,
      "outputs": []
    },
    {
      "cell_type": "code",
      "metadata": {
        "id": "Z84MshXg-Eir",
        "colab": {
          "base_uri": "https://localhost:8080/"
        },
        "outputId": "77d0dc19-4313-409f-cac8-563f56ca1300"
      },
      "source": [
        "df_test.isnull().sum()"
      ],
      "execution_count": 96,
      "outputs": [
        {
          "output_type": "execute_result",
          "data": {
            "text/plain": [
              "enrollee_id               0\n",
              "city                      0\n",
              "city_development_index    0\n",
              "gender                    0\n",
              "relevent_experience       0\n",
              "enrolled_university       0\n",
              "education_level           0\n",
              "major_discipline          0\n",
              "experience                0\n",
              "company_size              0\n",
              "company_type              0\n",
              "current_jobexperience     0\n",
              "training_hours            0\n",
              "dtype: int64"
            ]
          },
          "metadata": {
            "tags": []
          },
          "execution_count": 96
        }
      ]
    },
    {
      "cell_type": "markdown",
      "metadata": {
        "id": "Fqhy9uWi_pvo"
      },
      "source": [
        "#### test data transformation\n",
        "* One hot Encoding\n",
        "* Label Encoding"
      ]
    },
    {
      "cell_type": "code",
      "metadata": {
        "id": "sySXArc5_sN5"
      },
      "source": [
        "dfDummies = pd.get_dummies(df_test['major_discipline'], prefix = 'MD')"
      ],
      "execution_count": 97,
      "outputs": []
    },
    {
      "cell_type": "code",
      "metadata": {
        "id": "O8yNB9MM_sN6"
      },
      "source": [
        "df_test = pd.concat([df_test, dfDummies], axis=1)"
      ],
      "execution_count": 98,
      "outputs": []
    },
    {
      "cell_type": "code",
      "metadata": {
        "id": "MNeQy7ua_sN7"
      },
      "source": [
        "dfDummies = pd.get_dummies(df_test['gender'], prefix = 'gender')\n",
        "df_test = pd.concat([df_test, dfDummies], axis=1)"
      ],
      "execution_count": 99,
      "outputs": []
    },
    {
      "cell_type": "code",
      "metadata": {
        "id": "Roxw-JE3_sN9"
      },
      "source": [
        "dfDummies = pd.get_dummies(df_test['enrolled_university'], prefix = 'EU')\n",
        "df_test = pd.concat([df_test, dfDummies], axis=1)"
      ],
      "execution_count": 100,
      "outputs": []
    },
    {
      "cell_type": "code",
      "metadata": {
        "id": "JhcOIv_h_sN9"
      },
      "source": [
        "dfDummies = pd.get_dummies(df_test['company_type'], prefix = 'CT')\n",
        "df_test = pd.concat([df_test, dfDummies], axis=1)"
      ],
      "execution_count": 101,
      "outputs": []
    },
    {
      "cell_type": "code",
      "metadata": {
        "id": "PH3_T-j6_sN-"
      },
      "source": [
        "# create a list of our conditions to fill new column Popularity\n",
        "conditions = [\n",
        "    (df_test['education_level'] == 'Primary School'),\n",
        "    (df_test['education_level'] == 'High School'),\n",
        "    (df_test['education_level'] == 'Graduate'),\n",
        "    (df_test['education_level'] == 'Masters'),\n",
        "    (df_test['education_level'] == 'Phd')\n",
        "    ]\n",
        "# create a list of the values we want to assign for each condition\n",
        "values = [1, 2, 3, 4, 5]\n",
        "\n",
        "# create a new column and use np.select to assign values to it using our lists as arguments\n",
        "df_test['education_level'] = np.select(conditions, values)"
      ],
      "execution_count": 102,
      "outputs": []
    },
    {
      "cell_type": "code",
      "metadata": {
        "id": "SsVQpbIF_sN_"
      },
      "source": [
        "# create a list of our conditions to fill new column Popularity\n",
        "conditions = [\n",
        "    (df_test['relevent_experience'] == 'No relevent experience'),\n",
        "    (df_test['relevent_experience'] == 'Has relevent experience')\n",
        "    ]\n",
        "# create a list of the values we want to assign for each condition\n",
        "values = [0, 1]\n",
        "\n",
        "# create a new column and use np.select to assign values to it using our lists as arguments\n",
        "df_test['relevent_experience'] = np.select(conditions, values)"
      ],
      "execution_count": 103,
      "outputs": []
    },
    {
      "cell_type": "code",
      "metadata": {
        "id": "uvuw6Tr0_sOA"
      },
      "source": [
        "df_test.experience.replace({'<1': '0', '>20':'21'}, inplace=True)"
      ],
      "execution_count": 104,
      "outputs": []
    },
    {
      "cell_type": "code",
      "metadata": {
        "id": "KmPqdnkZ_sOB"
      },
      "source": [
        "df_test['experience'] = df_test['experience'].astype(str).astype(int)"
      ],
      "execution_count": 105,
      "outputs": []
    },
    {
      "cell_type": "code",
      "metadata": {
        "id": "whDZvWXX_sOC"
      },
      "source": [
        "df_test.current_jobexperience.replace({'<1': '0', '>20':'21', '>4':'5'}, inplace=True)"
      ],
      "execution_count": 106,
      "outputs": []
    },
    {
      "cell_type": "code",
      "metadata": {
        "id": "plX4rTM-_sOD"
      },
      "source": [
        "df_test['current_jobexperience'] = df_test['current_jobexperience'].astype(str).astype(int)"
      ],
      "execution_count": 107,
      "outputs": []
    },
    {
      "cell_type": "code",
      "metadata": {
        "id": "G824WV6J_sOE"
      },
      "source": [
        "df_test.company_size.replace({'<10': '0', '10/49':'1', '50-99':'2', '100-500':'3', '500-999':'4', '1000-4999':'5', '5000-9999':'6', '10000+':'7'}, inplace=True)"
      ],
      "execution_count": 108,
      "outputs": []
    },
    {
      "cell_type": "code",
      "metadata": {
        "id": "s4x_H1Ue_sOE"
      },
      "source": [
        "df_test.company_size = df_test.company_size.astype(str).astype(int)"
      ],
      "execution_count": 109,
      "outputs": []
    },
    {
      "cell_type": "code",
      "metadata": {
        "id": "z24RUsfgAyNI",
        "colab": {
          "base_uri": "https://localhost:8080/",
          "height": 251
        },
        "outputId": "942aa0bc-c430-42b3-b9d2-38b02af7b332"
      },
      "source": [
        "df_test.head()"
      ],
      "execution_count": 110,
      "outputs": [
        {
          "output_type": "execute_result",
          "data": {
            "text/html": [
              "<div>\n",
              "<style scoped>\n",
              "    .dataframe tbody tr th:only-of-type {\n",
              "        vertical-align: middle;\n",
              "    }\n",
              "\n",
              "    .dataframe tbody tr th {\n",
              "        vertical-align: top;\n",
              "    }\n",
              "\n",
              "    .dataframe thead th {\n",
              "        text-align: right;\n",
              "    }\n",
              "</style>\n",
              "<table border=\"1\" class=\"dataframe\">\n",
              "  <thead>\n",
              "    <tr style=\"text-align: right;\">\n",
              "      <th></th>\n",
              "      <th>enrollee_id</th>\n",
              "      <th>city</th>\n",
              "      <th>city_development_index</th>\n",
              "      <th>gender</th>\n",
              "      <th>relevent_experience</th>\n",
              "      <th>enrolled_university</th>\n",
              "      <th>education_level</th>\n",
              "      <th>major_discipline</th>\n",
              "      <th>experience</th>\n",
              "      <th>company_size</th>\n",
              "      <th>company_type</th>\n",
              "      <th>current_jobexperience</th>\n",
              "      <th>training_hours</th>\n",
              "      <th>MD_Arts</th>\n",
              "      <th>MD_Business Degree</th>\n",
              "      <th>MD_Humanities</th>\n",
              "      <th>MD_No Major</th>\n",
              "      <th>MD_Other</th>\n",
              "      <th>MD_STEM</th>\n",
              "      <th>gender_Diverse</th>\n",
              "      <th>gender_Female</th>\n",
              "      <th>gender_Male</th>\n",
              "      <th>gender_Undisclosed</th>\n",
              "      <th>EU_Full time course</th>\n",
              "      <th>EU_Part time course</th>\n",
              "      <th>EU_no_enrollment</th>\n",
              "      <th>CT_Early Stage Startup</th>\n",
              "      <th>CT_Funded Startup</th>\n",
              "      <th>CT_NGO</th>\n",
              "      <th>CT_Other</th>\n",
              "      <th>CT_Public Sector</th>\n",
              "      <th>CT_Pvt Ltd</th>\n",
              "    </tr>\n",
              "  </thead>\n",
              "  <tbody>\n",
              "    <tr>\n",
              "      <th>0</th>\n",
              "      <td>32403</td>\n",
              "      <td>city_41</td>\n",
              "      <td>0.827</td>\n",
              "      <td>Male</td>\n",
              "      <td>1</td>\n",
              "      <td>Full time course</td>\n",
              "      <td>3</td>\n",
              "      <td>STEM</td>\n",
              "      <td>9</td>\n",
              "      <td>0</td>\n",
              "      <td>Pvt Ltd</td>\n",
              "      <td>1</td>\n",
              "      <td>21</td>\n",
              "      <td>0</td>\n",
              "      <td>0</td>\n",
              "      <td>0</td>\n",
              "      <td>0</td>\n",
              "      <td>0</td>\n",
              "      <td>1</td>\n",
              "      <td>0</td>\n",
              "      <td>0</td>\n",
              "      <td>1</td>\n",
              "      <td>0</td>\n",
              "      <td>1</td>\n",
              "      <td>0</td>\n",
              "      <td>0</td>\n",
              "      <td>0</td>\n",
              "      <td>0</td>\n",
              "      <td>0</td>\n",
              "      <td>0</td>\n",
              "      <td>0</td>\n",
              "      <td>1</td>\n",
              "    </tr>\n",
              "    <tr>\n",
              "      <th>1</th>\n",
              "      <td>9858</td>\n",
              "      <td>city_103</td>\n",
              "      <td>0.920</td>\n",
              "      <td>Female</td>\n",
              "      <td>1</td>\n",
              "      <td>no_enrollment</td>\n",
              "      <td>3</td>\n",
              "      <td>STEM</td>\n",
              "      <td>5</td>\n",
              "      <td>1</td>\n",
              "      <td>Pvt Ltd</td>\n",
              "      <td>1</td>\n",
              "      <td>98</td>\n",
              "      <td>0</td>\n",
              "      <td>0</td>\n",
              "      <td>0</td>\n",
              "      <td>0</td>\n",
              "      <td>0</td>\n",
              "      <td>1</td>\n",
              "      <td>0</td>\n",
              "      <td>1</td>\n",
              "      <td>0</td>\n",
              "      <td>0</td>\n",
              "      <td>0</td>\n",
              "      <td>0</td>\n",
              "      <td>1</td>\n",
              "      <td>0</td>\n",
              "      <td>0</td>\n",
              "      <td>0</td>\n",
              "      <td>0</td>\n",
              "      <td>0</td>\n",
              "      <td>1</td>\n",
              "    </tr>\n",
              "    <tr>\n",
              "      <th>2</th>\n",
              "      <td>31806</td>\n",
              "      <td>city_21</td>\n",
              "      <td>0.624</td>\n",
              "      <td>Male</td>\n",
              "      <td>0</td>\n",
              "      <td>no_enrollment</td>\n",
              "      <td>2</td>\n",
              "      <td>STEM</td>\n",
              "      <td>0</td>\n",
              "      <td>1</td>\n",
              "      <td>Pvt Ltd</td>\n",
              "      <td>0</td>\n",
              "      <td>15</td>\n",
              "      <td>0</td>\n",
              "      <td>0</td>\n",
              "      <td>0</td>\n",
              "      <td>0</td>\n",
              "      <td>0</td>\n",
              "      <td>1</td>\n",
              "      <td>0</td>\n",
              "      <td>0</td>\n",
              "      <td>1</td>\n",
              "      <td>0</td>\n",
              "      <td>0</td>\n",
              "      <td>0</td>\n",
              "      <td>1</td>\n",
              "      <td>0</td>\n",
              "      <td>0</td>\n",
              "      <td>0</td>\n",
              "      <td>0</td>\n",
              "      <td>0</td>\n",
              "      <td>1</td>\n",
              "    </tr>\n",
              "    <tr>\n",
              "      <th>3</th>\n",
              "      <td>27385</td>\n",
              "      <td>city_13</td>\n",
              "      <td>0.827</td>\n",
              "      <td>Male</td>\n",
              "      <td>1</td>\n",
              "      <td>no_enrollment</td>\n",
              "      <td>4</td>\n",
              "      <td>STEM</td>\n",
              "      <td>11</td>\n",
              "      <td>1</td>\n",
              "      <td>Pvt Ltd</td>\n",
              "      <td>1</td>\n",
              "      <td>39</td>\n",
              "      <td>0</td>\n",
              "      <td>0</td>\n",
              "      <td>0</td>\n",
              "      <td>0</td>\n",
              "      <td>0</td>\n",
              "      <td>1</td>\n",
              "      <td>0</td>\n",
              "      <td>0</td>\n",
              "      <td>1</td>\n",
              "      <td>0</td>\n",
              "      <td>0</td>\n",
              "      <td>0</td>\n",
              "      <td>1</td>\n",
              "      <td>0</td>\n",
              "      <td>0</td>\n",
              "      <td>0</td>\n",
              "      <td>0</td>\n",
              "      <td>0</td>\n",
              "      <td>1</td>\n",
              "    </tr>\n",
              "    <tr>\n",
              "      <th>4</th>\n",
              "      <td>27724</td>\n",
              "      <td>city_103</td>\n",
              "      <td>0.920</td>\n",
              "      <td>Male</td>\n",
              "      <td>1</td>\n",
              "      <td>no_enrollment</td>\n",
              "      <td>3</td>\n",
              "      <td>STEM</td>\n",
              "      <td>21</td>\n",
              "      <td>7</td>\n",
              "      <td>Pvt Ltd</td>\n",
              "      <td>5</td>\n",
              "      <td>72</td>\n",
              "      <td>0</td>\n",
              "      <td>0</td>\n",
              "      <td>0</td>\n",
              "      <td>0</td>\n",
              "      <td>0</td>\n",
              "      <td>1</td>\n",
              "      <td>0</td>\n",
              "      <td>0</td>\n",
              "      <td>1</td>\n",
              "      <td>0</td>\n",
              "      <td>0</td>\n",
              "      <td>0</td>\n",
              "      <td>1</td>\n",
              "      <td>0</td>\n",
              "      <td>0</td>\n",
              "      <td>0</td>\n",
              "      <td>0</td>\n",
              "      <td>0</td>\n",
              "      <td>1</td>\n",
              "    </tr>\n",
              "  </tbody>\n",
              "</table>\n",
              "</div>"
            ],
            "text/plain": [
              "   enrollee_id      city  ...  CT_Public Sector CT_Pvt Ltd\n",
              "0        32403   city_41  ...                 0          1\n",
              "1         9858  city_103  ...                 0          1\n",
              "2        31806   city_21  ...                 0          1\n",
              "3        27385   city_13  ...                 0          1\n",
              "4        27724  city_103  ...                 0          1\n",
              "\n",
              "[5 rows x 32 columns]"
            ]
          },
          "metadata": {
            "tags": []
          },
          "execution_count": 110
        }
      ]
    },
    {
      "cell_type": "code",
      "metadata": {
        "id": "EOJX1LvrA6Fl"
      },
      "source": [
        "X_kaggle_test = df_test.drop(['enrollee_id', 'city', 'gender', 'enrolled_university', 'major_discipline', 'company_type'], axis = 1)"
      ],
      "execution_count": 111,
      "outputs": []
    },
    {
      "cell_type": "markdown",
      "metadata": {
        "id": "fxURbciO7P3d"
      },
      "source": [
        "## Model Selection and Evaluation\n",
        "\n",
        "Decision tree with Depth 6 has performed best with AUC=0.76. \n",
        "\n",
        "Train the selected model on whole data(Train + Validation set)\n",
        "\n",
        "> Upsampling the whole train data\n"
      ]
    },
    {
      "cell_type": "code",
      "metadata": {
        "colab": {
          "base_uri": "https://localhost:8080/"
        },
        "id": "hYGZsrtc8pKp",
        "outputId": "56465dc2-a130-44e8-93c5-d6f6fb9aab5f"
      },
      "source": [
        "# concatenate our training data back together\n",
        "upsampled_df = pd.concat([X, y], axis=1)\n",
        "\n",
        "# separate minority and majority classes\n",
        "no_job_change = upsampled_df[upsampled_df.target==0]\n",
        "job_change = upsampled_df[upsampled_df.target==1]\n",
        "\n",
        "# upsample minority\n",
        "job_change_upsample = resample(job_change,\n",
        "                          replace=True, # sample with replacement\n",
        "                          n_samples=len(no_job_change), # match number in majority class\n",
        "                          random_state=27) # reproducible results\n",
        "\n",
        "# combine majority and upsampled minority\n",
        "upsampled_final = pd.concat([no_job_change, job_change_upsample])\n",
        "\n",
        "# check new class counts\n",
        "upsampled_final.target.value_counts()"
      ],
      "execution_count": 112,
      "outputs": [
        {
          "output_type": "execute_result",
          "data": {
            "text/plain": [
              "1.0    14371\n",
              "0.0    14371\n",
              "Name: target, dtype: int64"
            ]
          },
          "metadata": {
            "tags": []
          },
          "execution_count": 112
        }
      ]
    },
    {
      "cell_type": "code",
      "metadata": {
        "id": "RxeDsXZx9rbn"
      },
      "source": [
        "X_upsampled_final = upsampled_final.drop(['target'], axis=1)\n",
        "y_upsampled_final = upsampled_final.target"
      ],
      "execution_count": 113,
      "outputs": []
    },
    {
      "cell_type": "markdown",
      "metadata": {
        "id": "IEi70uY16EdA"
      },
      "source": [
        "#### Decision Tree with depth = 6 with upsampled data\n"
      ]
    },
    {
      "cell_type": "code",
      "metadata": {
        "colab": {
          "base_uri": "https://localhost:8080/",
          "height": 332
        },
        "id": "niHVRzoT7OY4",
        "outputId": "198421be-a812-469e-8c93-00da62790452"
      },
      "source": [
        "# Upsample\n",
        "d_tree_model_final = DecisionTreeClassifier(criterion=\"entropy\", max_depth=6)\n",
        "d_tree_model_final.fit(X_upsampled_final, y_upsampled_final)\n",
        "\n",
        "y_pred_dt = d_tree_model_final.predict(X_kaggle_test)\n",
        "dt_accuracy_final = metrics.f1_score(target_data, y_pred_dt)\n",
        "\n",
        "print('Area Under Curve of Decision Tree:', roc_auc_score(target_data, d_tree_model_final.predict_proba(X_kaggle_test)[:,1]))\n",
        "print('F1 score:', dt_accuracy_final)\n",
        "\n",
        "plot_roc_curve(d_tree_model_final, X_kaggle_test, target_data)"
      ],
      "execution_count": 114,
      "outputs": [
        {
          "output_type": "stream",
          "text": [
            "Area Under Curve of Decision Tree: 0.7387795574873005\n",
            "F1 score: 0.5513108614232209\n"
          ],
          "name": "stdout"
        },
        {
          "output_type": "execute_result",
          "data": {
            "text/plain": [
              "<sklearn.metrics._plot.roc_curve.RocCurveDisplay at 0x7efc3014f050>"
            ]
          },
          "metadata": {
            "tags": []
          },
          "execution_count": 114
        },
        {
          "output_type": "display_data",
          "data": {
            "image/png": "[encoded data removed]",
            "text/plain": [
              "<Figure size 432x288 with 1 Axes>"
            ]
          },
          "metadata": {
            "tags": [],
            "needs_background": "light"
          }
        }
      ]
    },
    {
      "cell_type": "code",
      "metadata": {
        "id": "fps8guJo-A4w"
      },
      "source": [
        ""
      ],
      "execution_count": 114,
      "outputs": []
    }
  ]
}